{
  "nbformat": 4,
  "nbformat_minor": 0,
  "metadata": {
    "colab": {
      "private_outputs": true,
      "provenance": [],
      "collapsed_sections": [
        "vncDsAP0Gaoa",
        "FJNUwmbgGyua",
        "w6K7xa23Elo4",
        "yQaldy8SH6Dl",
        "mDgbUHAGgjLW",
        "O_i_v8NEhb9l",
        "HhfV-JJviCcP",
        "Y3lxredqlCYt",
        "3RnN4peoiCZX",
        "x71ZqKXriCWQ",
        "7hBIi_osiCS2",
        "JlHwYmJAmNHm",
        "35m5QtbWiB9F",
        "PoPl-ycgm1ru",
        "H0kj-8xxnORC",
        "nA9Y7ga8ng1Z",
        "PBTbrJXOngz2",
        "u3PMJOP6ngxN",
        "dauF4eBmngu3",
        "bKJF3rekwFvQ",
        "MSa1f5Uengrz",
        "GF8Ens_Soomf",
        "0wOQAZs5pc--",
        "K5QZ13OEpz2H",
        "lQ7QKXXCp7Bj",
        "448CDAPjqfQr",
        "KSlN3yHqYklG",
        "t6dVpIINYklI",
        "ijmpgYnKYklI",
        "-JiQyfWJYklI",
        "EM7whBJCYoAo",
        "fge-S5ZAYoAp",
        "85gYPyotYoAp",
        "RoGjAbkUYoAp",
        "4Of9eVA-YrdM",
        "iky9q4vBYrdO",
        "F6T5p64dYrdO",
        "y-Ehk30pYrdP",
        "bamQiAODYuh1",
        "QHF8YVU7Yuh3",
        "GwzvFGzlYuh3",
        "qYpmQ266Yuh3",
        "OH-pJp9IphqM",
        "bbFf2-_FphqN",
        "_ouA3fa0phqN",
        "Seke61FWphqN",
        "PIIx-8_IphqN",
        "t27r6nlMphqO",
        "r2jJGEOYphqO",
        "b0JNsNcRphqO",
        "BZR9WyysphqO",
        "jj7wYXLtphqO",
        "eZrbJ2SmphqO",
        "rFu4xreNphqO",
        "YJ55k-q6phqO",
        "gCFgpxoyphqP",
        "OVtJsKN_phqQ",
        "lssrdh5qphqQ",
        "U2RJ9gkRphqQ",
        "1M8mcRywphqQ",
        "tgIPom80phqQ",
        "JMzcOPDDphqR",
        "x-EpHcCOp1ci",
        "X_VqEhTip1ck",
        "8zGJKyg5p1ck",
        "PVzmfK_Ep1ck",
        "n3dbpmDWp1ck",
        "ylSl6qgtp1ck",
        "ZWILFDl5p1ck",
        "M7G43BXep1ck",
        "Ag9LCva-p1cl",
        "E6MkPsBcp1cl",
        "2cELzS2fp1cl",
        "3MPXvC8up1cl",
        "NC_X3p0fY2L0",
        "UV0SzAkaZNRQ",
        "YPEH6qLeZNRQ",
        "q29F0dvdveiT",
        "EXh0U9oCveiU",
        "22aHeOlLveiV",
        "g-ATYxFrGrvw",
        "Yfr_Vlr8HBkt",
        "8yEUt7NnHlrM",
        "tEA2Xm5dHt1r",
        "I79__PHVH19G",
        "Ou-I18pAyIpj",
        "fF3858GYyt-u",
        "4_0_7-oCpUZd",
        "hwyV_J3ipUZe",
        "3yB-zSqbpUZe",
        "dEUvejAfpUZe",
        "Fd15vwWVpUZf",
        "bn_IUdTipZyH",
        "49K5P_iCpZyH",
        "Nff-vKELpZyI",
        "kLW572S8pZyI",
        "dWbDXHzopZyI",
        "yLjJCtPM0KBk",
        "xiyOF9F70UgQ",
        "7wuGOrhz0itI",
        "id1riN9m0vUs",
        "578E2V7j08f6",
        "89xtkJwZ18nB",
        "67NQN5KX2AMe",
        "Iwf50b-R2tYG",
        "GMQiZwjn3iu7",
        "WVIkgGqN3qsr",
        "XkPnILGE3zoT",
        "Hlsf0x5436Go",
        "mT9DMSJo4nBL",
        "c49ITxTc407N",
        "OeJFEK0N496M",
        "9ExmJH0g5HBk",
        "cJNqERVU536h",
        "k5UmGsbsOxih",
        "T0VqWOYE6DLQ",
        "qBMux9mC6MCf",
        "-oLEiFgy-5Pf",
        "C74aWNz2AliB",
        "2DejudWSA-a0",
        "pEMng2IbBLp7",
        "rAdphbQ9Bhjc",
        "TNVZ9zx19K6k",
        "nqoHp30x9hH9",
        "rMDnDkt2B6du",
        "yiiVWRdJDDil",
        "1UUpS68QDMuG",
        "kexQrXU-DjzY",
        "T5CmagL3EC8N",
        "BhH2vgX9EjGr",
        "qjKvONjwE8ra",
        "P1XJ9OREExlT",
        "VFOzZv6IFROw",
        "TIqpNgepFxVj",
        "VfCC591jGiD4",
        "OB4l2ZhMeS1U",
        "ArJBuiUVfxKd",
        "4qY1EAkEfxKe",
        "PiV4Ypx8fxKe",
        "TfvqoZmBfxKf",
        "dJ2tPlVmpsJ0",
        "JWYfwnehpsJ1",
        "-jK_YjpMpsJ2",
        "HAih1iBOpsJ2",
        "zVGeBEFhpsJ2",
        "bmKjuQ-FpsJ3",
        "Fze-IPXLpx6K",
        "7AN1z2sKpx6M",
        "9PIHJqyupx6M",
        "_-qAgymDpx6N",
        "Z-hykwinpx6N",
        "h_CCil-SKHpo",
        "cBFFvTBNJzUa",
        "HvGl1hHyA_VK",
        "EyNgTHvd2WFk",
        "KH5McJBi2d8v",
        "iW_Lq9qf2h6X",
        "-Kee-DAl2viO",
        "gCX9965dhzqZ",
        "gIfDvo9L0UH2"
      ],
      "include_colab_link": true
    },
    "kernelspec": {
      "name": "python3",
      "display_name": "Python 3"
    },
    "language_info": {
      "name": "python"
    },
    "gpuClass": "standard"
  },
  "cells": [
    {
      "cell_type": "markdown",
      "metadata": {
        "id": "view-in-github",
        "colab_type": "text"
      },
      "source": [
        "<a href=\"https://colab.research.google.com/github/nisha432/ted-talk-view-prediction/blob/main/TED_Talk_View_Prediction.ipynb\" target=\"_parent\"><img src=\"https://colab.research.google.com/assets/colab-badge.svg\" alt=\"Open In Colab\"/></a>"
      ]
    },
    {
      "cell_type": "markdown",
      "source": [
        "# **Project Name**    - TED Talk View Prediction  \n",
        "\n"
      ],
      "metadata": {
        "id": "vncDsAP0Gaoa"
      }
    },
    {
      "cell_type": "markdown",
      "source": [
        "##### **Project Type**    - Regression\n",
        "##### **Contribution**    - Individual\n"
      ],
      "metadata": {
        "id": "beRrZCGUAJYm"
      }
    },
    {
      "cell_type": "markdown",
      "source": [
        "# **Project Summary -**"
      ],
      "metadata": {
        "id": "FJNUwmbgGyua"
      }
    },
    {
      "cell_type": "markdown",
      "source": [
        "Write the summary here within 500-600 words."
      ],
      "metadata": {
        "id": "F6v_1wHtG2nS"
      }
    },
    {
      "cell_type": "markdown",
      "source": [
        "# **GitHub Link -**"
      ],
      "metadata": {
        "id": "w6K7xa23Elo4"
      }
    },
    {
      "cell_type": "markdown",
      "source": [
        "Provide your GitHub Link here."
      ],
      "metadata": {
        "id": "h1o69JH3Eqqn"
      }
    },
    {
      "cell_type": "markdown",
      "source": [
        "# **Problem Statement**\n"
      ],
      "metadata": {
        "id": "yQaldy8SH6Dl"
      }
    },
    {
      "cell_type": "markdown",
      "source": [
        "TED is dedicated to researching and sharing knowledge that matters through short talks and presentations. Their goal is to inform and educate global audiences in an accessible way.\n",
        "The main objective of this project is to build predictive model,which could help in predicting the view of the videos uploaded on the TEDx website , so that they can bring the same kind of talks on the topics which had the good number of views . \n",
        "\n"
      ],
      "metadata": {
        "id": "DpeJGUA3kjGy"
      }
    },
    {
      "cell_type": "markdown",
      "source": [
        "# **General Guidelines** : -  "
      ],
      "metadata": {
        "id": "mDgbUHAGgjLW"
      }
    },
    {
      "cell_type": "markdown",
      "source": [
        "1.   Well-structured, formatted, and commented code is required. \n",
        "2.   Exception Handling, Production Grade Code & Deployment Ready Code will be a plus. Those students will be awarded some additional credits. \n",
        "     \n",
        "     The additional credits will have advantages over other students during Star Student selection.\n",
        "       \n",
        "             [ Note: - Deployment Ready Code is defined as, the whole .ipynb notebook should be executable in one go\n",
        "                       without a single error logged. ]\n",
        "\n",
        "3.   Each and every logic should have proper comments.\n",
        "4. You may add as many number of charts you want. Make Sure for each and every chart the following format should be answered.\n",
        "        \n",
        "\n",
        "```\n",
        "# Chart visualization code\n",
        "```\n",
        "            \n",
        "\n",
        "*   Why did you pick the specific chart?\n",
        "*   What is/are the insight(s) found from the chart?\n",
        "* Will the gained insights help creating a positive business impact? \n",
        "Are there any insights that lead to negative growth? Justify with specific reason.\n",
        "\n",
        "5. You have to create at least 15 logical & meaningful charts having important insights.\n",
        "\n",
        "\n",
        "[ Hints : - Do the Vizualization in  a structured way while following \"UBM\" Rule. \n",
        "\n",
        "U - Univariate Analysis,\n",
        "\n",
        "B - Bivariate Analysis (Numerical - Categorical, Numerical - Numerical, Categorical - Categorical)\n",
        "\n",
        "M - Multivariate Analysis\n",
        " ]\n",
        "\n",
        "\n",
        "\n",
        "\n",
        "\n",
        "6. You may add more ml algorithms for model creation. Make sure for each and every algorithm, the following format should be answered.\n",
        "\n",
        "\n",
        "*   Explain the ML Model used and it's performance using Evaluation metric Score Chart.\n",
        "\n",
        "\n",
        "*   Cross- Validation & Hyperparameter Tuning\n",
        "\n",
        "*   Have you seen any improvement? Note down the improvement with updates Evaluation metric Score Chart.\n",
        "\n",
        "*   Explain each evaluation metric's indication towards business and the business impact pf the ML model used.\n",
        "\n",
        "\n",
        "\n",
        "\n",
        "\n",
        "\n",
        "\n",
        "\n",
        "\n",
        "\n",
        "\n",
        "\n",
        "\n",
        "\n",
        "\n",
        "\n",
        "\n",
        "\n"
      ],
      "metadata": {
        "id": "ZrxVaUj-hHfC"
      }
    },
    {
      "cell_type": "markdown",
      "source": [
        "# ***Let's Begin !***"
      ],
      "metadata": {
        "id": "O_i_v8NEhb9l"
      }
    },
    {
      "cell_type": "markdown",
      "source": [
        "## ***1. Know Your Data***"
      ],
      "metadata": {
        "id": "HhfV-JJviCcP"
      }
    },
    {
      "cell_type": "markdown",
      "source": [
        "### Import Libraries"
      ],
      "metadata": {
        "id": "Y3lxredqlCYt"
      }
    },
    {
      "cell_type": "code",
      "source": [
        "# Import Libraries\n",
        "import numpy as np\n",
        "import pandas as pd\n",
        "from numpy import math\n",
        "\n",
        "from sklearn.preprocessing import MinMaxScaler\n",
        "from sklearn.model_selection import train_test_split\n",
        "from sklearn.linear_model import LinearRegression\n",
        "from sklearn.metrics import r2_score\n",
        "from sklearn.metrics import mean_squared_error\n",
        "\n",
        "import matplotlib.pyplot as plt\n",
        "import seaborn as snb\n",
        "\n",
        "from scipy import stats\n",
        "import missingno as mn\n",
        "\n",
        "\n"
      ],
      "metadata": {
        "id": "M8Vqi-pPk-HR"
      },
      "execution_count": null,
      "outputs": []
    },
    {
      "cell_type": "markdown",
      "source": [
        "### Dataset Loading"
      ],
      "metadata": {
        "id": "3RnN4peoiCZX"
      }
    },
    {
      "cell_type": "code",
      "source": [
        "# Load Dataset\n",
        "from google.colab import drive\n",
        "drive.mount('/content/drive')"
      ],
      "metadata": {
        "id": "4CkvbW_SlZ_R"
      },
      "execution_count": null,
      "outputs": []
    },
    {
      "cell_type": "code",
      "source": [
        "dataset = pd.read_csv('/content/drive/MyDrive/AlmaBetter/data_ted_talks.csv')"
      ],
      "metadata": {
        "id": "CvGTGvoWuPBc"
      },
      "execution_count": null,
      "outputs": []
    },
    {
      "cell_type": "markdown",
      "source": [
        "### Dataset First View"
      ],
      "metadata": {
        "id": "x71ZqKXriCWQ"
      }
    },
    {
      "cell_type": "code",
      "source": [
        "# Dataset First Look\n",
        "dataset.head()"
      ],
      "metadata": {
        "id": "LWNFOSvLl09H"
      },
      "execution_count": null,
      "outputs": []
    },
    {
      "cell_type": "markdown",
      "source": [
        "### Dataset Rows & Columns count"
      ],
      "metadata": {
        "id": "7hBIi_osiCS2"
      }
    },
    {
      "cell_type": "code",
      "source": [
        "# Dataset Rows & Columns count\n",
        "dataset.shape"
      ],
      "metadata": {
        "id": "Kllu7SJgmLij"
      },
      "execution_count": null,
      "outputs": []
    },
    {
      "cell_type": "markdown",
      "source": [
        "The given dataset had 4005 rows ,and 19 columns."
      ],
      "metadata": {
        "id": "Q-Lwk8Ky1oo1"
      }
    },
    {
      "cell_type": "markdown",
      "source": [
        "### Dataset Information"
      ],
      "metadata": {
        "id": "JlHwYmJAmNHm"
      }
    },
    {
      "cell_type": "code",
      "source": [
        "# Dataset Info\n",
        "dataset.info()"
      ],
      "metadata": {
        "id": "e9hRXRi6meOf"
      },
      "execution_count": null,
      "outputs": []
    },
    {
      "cell_type": "markdown",
      "source": [
        "#### Duplicate Values"
      ],
      "metadata": {
        "id": "35m5QtbWiB9F"
      }
    },
    {
      "cell_type": "code",
      "source": [
        "# Dataset Duplicate Value Count\n",
        "df=dataset. pivot_table(index=['talk_id','title','speaker_1','all_speakers'],aggfunc ='size')\n",
        "df"
      ],
      "metadata": {
        "id": "1sLdpKYkmox0"
      },
      "execution_count": null,
      "outputs": []
    },
    {
      "cell_type": "markdown",
      "source": [
        "#### Missing Values/Null Values"
      ],
      "metadata": {
        "id": "PoPl-ycgm1ru"
      }
    },
    {
      "cell_type": "code",
      "source": [
        "def resumetable(df):\n",
        "    print(f\"Dataset Shape: {df.shape}\")\n",
        "    summary = pd.DataFrame(df.dtypes,columns=['dtypes'])\n",
        "    summary = summary.reset_index()\n",
        "    summary['Name'] = summary['index']\n",
        "    summary = summary[['Name','dtypes']]\n",
        "    summary['Missing'] = df.isnull().sum().values    \n",
        "    summary['Uniques'] = df.nunique().values\n",
        "    summary['First Value'] = df.loc[0].values\n",
        "    summary['Second Value'] = df.loc[1].values\n",
        "    return summary\n",
        "result = resumetable(dataset)\n",
        "result.sort_values('Missing', ascending= False)\n"
      ],
      "metadata": {
        "id": "Vpj0rYQkd7LK"
      },
      "execution_count": null,
      "outputs": []
    },
    {
      "cell_type": "code",
      "execution_count": null,
      "metadata": {
        "id": "C8iezO8nrWog"
      },
      "outputs": [],
      "source": [
        " # Missing Values/Null Values Count\n",
        " print(dataset.isnull().sum())\n"
      ]
    },
    {
      "cell_type": "code",
      "source": [
        "# Visualizing the missing values"
      ],
      "metadata": {
        "id": "3q5wnI3om9sJ"
      },
      "execution_count": null,
      "outputs": []
    },
    {
      "cell_type": "code",
      "source": [
        "plt.figure(figsize=(10,6))\n",
        "snb.heatmap(dataset.isna().transpose(),\n",
        "            cmap=\"YlGnBu\",\n",
        "            cbar_kws={'label': 'Missing Data'})\n",
        "plt.savefig(\"visualizing_missing_data_with_heatmap_Seaborn_Python.png\", dpi=100)"
      ],
      "metadata": {
        "id": "R_tVT4KswND8"
      },
      "execution_count": null,
      "outputs": []
    },
    {
      "cell_type": "code",
      "source": [
        "plt.figure(figsize=(10,6))\n",
        "snb.displot(\n",
        "    data=dataset.isna().melt(value_name=\"missing\"),\n",
        "    y=\"variable\",\n",
        "    hue=\"missing\",\n",
        "    multiple=\"fill\",\n",
        "    aspect=1.25\n",
        ")\n",
        "plt.savefig(\"visualizing_missing_data_with_barplot_Seaborn_distplot.png\", dpi=100)"
      ],
      "metadata": {
        "id": "B44zR__Ewu_7"
      },
      "execution_count": null,
      "outputs": []
    },
    {
      "cell_type": "code",
      "source": [
        " print(dataset.isnull().values.sum())"
      ],
      "metadata": {
        "id": "xoc_htZ6mwXY"
      },
      "execution_count": null,
      "outputs": []
    },
    {
      "cell_type": "markdown",
      "source": [
        "### What did you know about your dataset?"
      ],
      "metadata": {
        "id": "H0kj-8xxnORC"
      }
    },
    {
      "cell_type": "markdown",
      "source": [
        "The given dataset has 4005 rows and 19 columns.Many columns like comments,occupations, about_speakers,all_speakers,recorded_date have missing values."
      ],
      "metadata": {
        "id": "gfoNAAC-nUe_"
      }
    },
    {
      "cell_type": "markdown",
      "source": [
        "## ***2. Understanding Your Variables***"
      ],
      "metadata": {
        "id": "nA9Y7ga8ng1Z"
      }
    },
    {
      "cell_type": "code",
      "source": [
        "# Dataset Columns\n",
        "columns=list(dataset.columns)\n",
        "columns"
      ],
      "metadata": {
        "id": "j7xfkqrt5Ag5"
      },
      "execution_count": null,
      "outputs": []
    },
    {
      "cell_type": "code",
      "source": [
        "# Dataset Describe \n",
        "#Describing only numeric fields are returned.\n",
        "\n",
        "\n",
        "dataset.describe()"
      ],
      "metadata": {
        "id": "DnOaZdaE5Q5t"
      },
      "execution_count": null,
      "outputs": []
    },
    {
      "cell_type": "code",
      "source": [
        "#Including only string columns in a DataFrame description.\n",
        "dataset.describe(include='object')\n"
      ],
      "metadata": {
        "id": "aSTTYcit9XRD"
      },
      "execution_count": null,
      "outputs": []
    },
    {
      "cell_type": "code",
      "source": [
        "# Describing all columns of a DataFrame regardless of data type.\n",
        "dataset.describe(include='all')"
      ],
      "metadata": {
        "id": "jdatAyMOfvkw"
      },
      "execution_count": null,
      "outputs": []
    },
    {
      "cell_type": "markdown",
      "source": [
        "### Variables Description "
      ],
      "metadata": {
        "id": "PBTbrJXOngz2"
      }
    },
    {
      "cell_type": "markdown",
      "source": [
        "talk_id: Talk identification number provided by TED\n",
        "\n",
        "title: Title of the talk\n",
        "\n",
        "speaker_1: First speaker in TED's speaker list\n",
        "\n",
        "all_speakers: Speakers in the talk\n",
        "\n",
        "occupations: Occupations of the speakers\n",
        "\n",
        "about_speakers: Blurb about each speaker\n",
        "\n",
        "recorded_date: Date the talk was recorded\n",
        "\n",
        "published_date: Date the talk was published to TED.com\n",
        "\n",
        "event: Event or medium in which the talk was given\n",
        "\n",
        "native_lang: Language the talk was given in\n",
        "\n",
        "available_lang: All available languages (lang_code) for a talk\n",
        "\n",
        "comments: Count of comments\n",
        "\n",
        "duration: Duration in seconds\n",
        "\n",
        "topics: Related tags or topics for the talk\n",
        "\n",
        "related_talks: Related talks (key='talk_id',value='title')\n",
        "\n",
        "url: URL of the talk\n",
        "\n",
        "description: Description of the talk\n",
        "\n",
        "transcript: Full transcript of the talk\n"
      ],
      "metadata": {
        "id": "aJV4KIxSnxay"
      }
    },
    {
      "cell_type": "markdown",
      "source": [
        "### Check Unique Values for each variable."
      ],
      "metadata": {
        "id": "u3PMJOP6ngxN"
      }
    },
    {
      "cell_type": "code",
      "source": [
        "# Check Unique Values for each variable.\n",
        "df = pd.DataFrame(dataset)\n",
        "print(df[\"talk_id\"].unique())\n",
        "print(df[\"title\"].unique())\n",
        "print(df[\"speaker_1\"].unique())\n",
        "print(df[\"all_speakers\"].unique())\n",
        "print(df[\"occupations\"].unique())\n",
        "print(df[\"about_speakers\"].unique())\n",
        "print(df[\"views\"].unique())\n",
        "print(df[\"recorded_date\"].unique())\n",
        "print(df[\"published_date\"].unique())\n",
        "print(df[\"event\"].unique())\n",
        "print(df[\"native_lang\"].unique())\n",
        "print(df[\"available_lang\"].unique())\n",
        "print(df[\"comments\"].unique())\n",
        "print(df[\"duration\"].unique())\n",
        "print(df[\"topics\"].unique())\n",
        "print(df[\"related_talks\"].unique())\n",
        "print(df[\"url\"].unique())\n",
        "print(df[\"description\"].unique())\n",
        "print(df[\"transcript\"].unique())\n"
      ],
      "metadata": {
        "id": "zms12Yq5n-jE"
      },
      "execution_count": null,
      "outputs": []
    },
    {
      "cell_type": "markdown",
      "source": [
        "## 3. ***Data Wrangling***"
      ],
      "metadata": {
        "id": "dauF4eBmngu3"
      }
    },
    {
      "cell_type": "markdown",
      "source": [
        "### Data Wrangling Code"
      ],
      "metadata": {
        "id": "bKJF3rekwFvQ"
      }
    },
    {
      "cell_type": "code",
      "source": [
        "# Write your code to make your dataset analysis ready.\n",
        "dataset.drop(['talk_id','about_speakers','url','description','transcript'], axis=1)\n"
      ],
      "metadata": {
        "id": "wk-9a2fpoLcV"
      },
      "execution_count": null,
      "outputs": []
    },
    {
      "cell_type": "markdown",
      "source": [
        "### What all manipulations have you done and insights you found?"
      ],
      "metadata": {
        "id": "MSa1f5Uengrz"
      }
    },
    {
      "cell_type": "markdown",
      "source": [
        "I have droped some of the colums ,which were not useful for finding the insights."
      ],
      "metadata": {
        "id": "LbyXE7I1olp8"
      }
    },
    {
      "cell_type": "markdown",
      "source": [
        "## ***4. Data Vizualization, Storytelling & Experimenting with charts : Understand the relationships between variables***"
      ],
      "metadata": {
        "id": "GF8Ens_Soomf"
      }
    },
    {
      "cell_type": "markdown",
      "source": [
        "#### Chart - 1"
      ],
      "metadata": {
        "id": "0wOQAZs5pc--"
      }
    },
    {
      "cell_type": "code",
      "source": [
        "# Chart - 1 visualization code\n",
        "ax = snb.barplot(x=\"duration\", y=\"speaker_1\", data=dataset.sort_values('duration', ascending=False)[:20])\n"
      ],
      "metadata": {
        "id": "7v_ESjsspbW7"
      },
      "execution_count": null,
      "outputs": []
    },
    {
      "cell_type": "markdown",
      "source": [
        "##### 1. Why did you pick the specific chart?"
      ],
      "metadata": {
        "id": "K5QZ13OEpz2H"
      }
    },
    {
      "cell_type": "markdown",
      "source": [
        "I chose this chart because ,Many people dislike watching lengthier films unless they are really engaging SO it may be beneficial to identify the speaker who has delivered the longest presentation.\n",
        "\n",
        "\n",
        "\n",
        "\n",
        "\n",
        "\n",
        "\n",
        "\n",
        "\n"
      ],
      "metadata": {
        "id": "_j7fBQzjrcLw"
      }
    },
    {
      "cell_type": "markdown",
      "source": [
        "##### 2. What is/are the insight(s) found from the chart?"
      ],
      "metadata": {
        "id": "lQ7QKXXCp7Bj"
      }
    },
    {
      "cell_type": "markdown",
      "source": [
        "The plot above indicates that Chris Anderson delivered a presentation for an extended duration.\n",
        "\n",
        "\n",
        "\n",
        "\n",
        "\n",
        "\n",
        "\n"
      ],
      "metadata": {
        "id": "ZzD-k-kBrkfa"
      }
    },
    {
      "cell_type": "markdown",
      "source": [
        "##### 3. Will the gained insights help creating a positive business impact? \n",
        "Are there any insights that lead to negative growth? Justify with specific reason."
      ],
      "metadata": {
        "id": "448CDAPjqfQr"
      }
    },
    {
      "cell_type": "markdown",
      "source": [
        "Absolutely, this insight can prove to be quite valuable. By analyzing this graph, we can assess the level of engagement of the audience towards a speaker and predict whether they were successful in capturing the viewers' attention. Additionally, this graph can serve as a foundation for further analysis and aid in making informed decisions regarding future events or speakers\n"
      ],
      "metadata": {
        "id": "3cspy4FjqxJW"
      }
    },
    {
      "cell_type": "markdown",
      "source": [
        "#### Chart - 2"
      ],
      "metadata": {
        "id": "KSlN3yHqYklG"
      }
    },
    {
      "cell_type": "code",
      "source": [
        "# Chart - 2 visualization code\n",
        "ax = snb.barplot(x=\"views\", y=\"speaker_1\", data=dataset.sort_values('views', ascending=False)[:20])\n"
      ],
      "metadata": {
        "id": "R4YgtaqtYklH"
      },
      "execution_count": null,
      "outputs": []
    },
    {
      "cell_type": "markdown",
      "source": [
        "##### 1. Why did you pick the specific chart?"
      ],
      "metadata": {
        "id": "t6dVpIINYklI"
      }
    },
    {
      "cell_type": "markdown",
      "source": [
        "I selected this particular graph because I wanted to determine the viewership of longer videos and whether they receive a substantial number of views or not. The graph can help me analyze if viewers lose interest in longer videos and if it is necessary to keep the duration shorter to capture their attention.\n",
        "\n",
        "\n",
        "\n",
        "\n"
      ],
      "metadata": {
        "id": "Cf9tumFRjckz"
      }
    },
    {
      "cell_type": "markdown",
      "source": [
        "##### 2. What is/are the insight(s) found from the chart?"
      ],
      "metadata": {
        "id": "ijmpgYnKYklI"
      }
    },
    {
      "cell_type": "markdown",
      "source": [
        "In the above plot, we can observe that Chris Anderson's name is not present, but several other names from the previous plot are visible.\n",
        "\n",
        "\n",
        "\n",
        "\n",
        "\n"
      ],
      "metadata": {
        "id": "5aaW0BYyYklI"
      }
    },
    {
      "cell_type": "markdown",
      "source": [
        "##### 3. Will the gained insights help creating a positive business impact? \n",
        "Are there any insights that lead to negative growth? Justify with specific reason."
      ],
      "metadata": {
        "id": "-JiQyfWJYklI"
      }
    },
    {
      "cell_type": "markdown",
      "source": [
        "Yes, that's correct! Analyzing the speaker with the maximum views can provide valuable insights into what topics and presentation styles are resonating with the audience. It's also interesting to note that some speakers, such as Bill Gates, can hold the audience's attention for longer durations, despite the length of their talks. This could be due to a variety of factors, such as the speaker's charisma, the relevance of the topic, or the way the presentation is structured. By analyzing these patterns, businesses can gain a better understanding of how to create content that is both engaging and informative for their target audience.\n",
        "\n",
        "\n",
        "\n"
      ],
      "metadata": {
        "id": "lFrwojqCwUUD"
      }
    },
    {
      "cell_type": "markdown",
      "source": [
        " Is there any relationship between view and duration? is the question from above two graphs "
      ],
      "metadata": {
        "id": "rAjInRCU-j5V"
      }
    },
    {
      "cell_type": "code",
      "source": [
        "#let's see the distribution of views\n",
        "snb.displot(dataset[dataset['views'] < 0.4e7]['views'])\n",
        "#let's see the distribution of duration\n",
        "snb.displot(dataset[dataset['duration'] < 0.4e7]['duration'])\n"
      ],
      "metadata": {
        "id": "ovkTtOuUu7vs"
      },
      "execution_count": null,
      "outputs": []
    },
    {
      "cell_type": "code",
      "source": [
        "snb.jointplot(x='views', y='duration', data=dataset)\n"
      ],
      "metadata": {
        "id": "kED8pwAsHBcv"
      },
      "execution_count": null,
      "outputs": []
    },
    {
      "cell_type": "markdown",
      "source": [
        "In general, longer talks tend to have a longer duration, although there can be some variation in this relationship depending on the specific talk. This is likely because the more content a talk covers, the longer it will take to deliver it. However, as I mentioned earlier, the length of a talk may not be the only factor that affects its popularity. Other factors, such as the speaker, topic, and style of presentation, may also play a role in determining the success of a TED Talk.\n",
        "\n",
        "\n",
        "\n"
      ],
      "metadata": {
        "id": "BcBbebzrYklV"
      }
    },
    {
      "cell_type": "markdown",
      "source": [
        "#### Chart - 3"
      ],
      "metadata": {
        "id": "EM7whBJCYoAo"
      }
    },
    {
      "cell_type": "code",
      "source": [
        "# Chart - 3 visualization code"
      ],
      "metadata": {
        "id": "t6GMdE67YoAp"
      },
      "execution_count": null,
      "outputs": []
    },
    {
      "cell_type": "code",
      "execution_count": null,
      "metadata": {
        "id": "c26IFm8f5CK1"
      },
      "outputs": [],
      "source": [
        "# finding out the top most native language used \n",
        "z=dataset['native_lang'].value_counts().head(10)\n",
        "print(z)"
      ]
    },
    {
      "cell_type": "code",
      "execution_count": null,
      "metadata": {
        "id": "yyu7eU11L5WB"
      },
      "outputs": [],
      "source": [
        "# Create the plot object\n",
        "z.plot(kind='bar',color='green',width=0.8)\n",
        "plt.title('language used',fontdict={'fontsize':20,'fontweight':'bold','fontstyle':'oblique'})\n",
        "plt.ylabel('lanuage count',fontdict={'fontsize':20,'fontweight':'normal'})\n",
        "plt.xlabel('native laguage',fontdict={'fontsize':20,'fontweight':'normal'})\n",
        "plt.rcParams['figure.figsize'] = (10,10)\n"
      ]
    },
    {
      "cell_type": "markdown",
      "source": [
        "##### 1. Why did you pick the specific chart?"
      ],
      "metadata": {
        "id": "fge-S5ZAYoAp"
      }
    },
    {
      "cell_type": "markdown",
      "source": [
        "I chose this chart to determine which native language has been used the most.\n",
        "\n",
        "\n",
        "\n",
        "\n",
        "\n"
      ],
      "metadata": {
        "id": "5dBItgRVYoAp"
      }
    },
    {
      "cell_type": "markdown",
      "source": [
        "##### 2. What is/are the insight(s) found from the chart?"
      ],
      "metadata": {
        "id": "85gYPyotYoAp"
      }
    },
    {
      "cell_type": "markdown",
      "source": [
        " This shows that english language has been used widely ."
      ],
      "metadata": {
        "id": "4jstXR6OYoAp"
      }
    },
    {
      "cell_type": "markdown",
      "source": [
        "##### 3. Will the gained insights help creating a positive business impact? \n",
        "Are there any insights that lead to negative growth? Justify with specific reason."
      ],
      "metadata": {
        "id": "RoGjAbkUYoAp"
      }
    },
    {
      "cell_type": "markdown",
      "source": [
        "This insight highlights that English is a popular language due to its global reach and wide understanding. Therefore, we can use English more frequently. However, it is also important to focus on other native languages since there may be some people who prefer to consume content in their own language. Neglecting these languages could result in a slightly negative impact on growth"
      ],
      "metadata": {
        "id": "zfJ8IqMcYoAp"
      }
    },
    {
      "cell_type": "markdown",
      "source": [
        "#### Chart - 4"
      ],
      "metadata": {
        "id": "4Of9eVA-YrdM"
      }
    },
    {
      "cell_type": "code",
      "source": [
        "# Chart - 4 visualization code"
      ],
      "metadata": {
        "id": "irlUoxc8YrdO"
      },
      "execution_count": null,
      "outputs": []
    },
    {
      "cell_type": "code",
      "source": [
        "snb.jointplot(x='views', y='comments', data=dataset)\n"
      ],
      "metadata": {
        "id": "WmBQxJCT_ZWg"
      },
      "execution_count": null,
      "outputs": []
    },
    {
      "cell_type": "markdown",
      "source": [
        "##### 1. Why did you pick the specific chart?"
      ],
      "metadata": {
        "id": "iky9q4vBYrdO"
      }
    },
    {
      "cell_type": "markdown",
      "source": [
        "\n",
        "\n",
        "I chose this chart to investigate the relationship between views and comments. It appears that popular videos tend to have more comments and foster more discussion.\n",
        "\n",
        "\n",
        "\n",
        "\n",
        "\n",
        "\n"
      ],
      "metadata": {
        "id": "aJRCwT6DYrdO"
      }
    },
    {
      "cell_type": "markdown",
      "source": [
        "##### 2. What is/are the insight(s) found from the chart?"
      ],
      "metadata": {
        "id": "F6T5p64dYrdO"
      }
    },
    {
      "cell_type": "markdown",
      "source": [
        "This chart shows that there is a strong relationship between views and comments ."
      ],
      "metadata": {
        "id": "Xx8WAJvtYrdO"
      }
    },
    {
      "cell_type": "markdown",
      "source": [
        "##### 3. Will the gained insights help creating a positive business impact? \n",
        "Are there any insights that lead to negative growth? Justify with specific reason."
      ],
      "metadata": {
        "id": "y-Ehk30pYrdP"
      }
    },
    {
      "cell_type": "markdown",
      "source": [
        "This insight highlights that videos with a significant number of views and comments are likely to be popular due to their compelling content, which could be due to the topic or the speaker. Therefore, creating similar talks that are engaging and informative could have a positive impact on the business by attracting more views and encouraging audience engagement.\n",
        "\n",
        "\n",
        "\n"
      ],
      "metadata": {
        "id": "DQP_ywALeOVe"
      }
    },
    {
      "cell_type": "markdown",
      "source": [
        "#### Chart - 5"
      ],
      "metadata": {
        "id": "bamQiAODYuh1"
      }
    },
    {
      "cell_type": "code",
      "source": [
        "# Chart - 5 visualization code"
      ],
      "metadata": {
        "id": "TIJwrbroYuh3"
      },
      "execution_count": null,
      "outputs": []
    },
    {
      "cell_type": "code",
      "source": [
        "dataset[['title', 'speaker_1','views', 'comments', 'duration']].sort_values('views', ascending=False).head(10)"
      ],
      "metadata": {
        "id": "QZ6VEGM0kiDT"
      },
      "execution_count": null,
      "outputs": []
    },
    {
      "cell_type": "markdown",
      "source": [
        "##### 1. Why did you pick the specific chart?"
      ],
      "metadata": {
        "id": "QHF8YVU7Yuh3"
      }
    },
    {
      "cell_type": "markdown",
      "source": [
        "I chose this chart to determine which talk became popular based on its number of views.\n",
        "\n",
        "\n",
        "\n",
        "\n",
        "\n",
        "\n"
      ],
      "metadata": {
        "id": "dcxuIMRPYuh3"
      }
    },
    {
      "cell_type": "markdown",
      "source": [
        "##### 2. What is/are the insight(s) found from the chart?"
      ],
      "metadata": {
        "id": "GwzvFGzlYuh3"
      }
    },
    {
      "cell_type": "markdown",
      "source": [
        "Based on the above chart, it is clear that Sir Ken Robinson is the most popular TED speaker by views, and his talk on the topic \"Do Schools Kill Creativity?\" is the one that propelled him to popularity.\n",
        "\n",
        "\n",
        "\n"
      ],
      "metadata": {
        "id": "uyqkiB8YYuh3"
      }
    },
    {
      "cell_type": "markdown",
      "source": [
        "##### 3. Will the gained insights help creating a positive business impact? \n",
        "Are there any insights that lead to negative growth? Justify with specific reason."
      ],
      "metadata": {
        "id": "qYpmQ266Yuh3"
      }
    },
    {
      "cell_type": "markdown",
      "source": [
        "This insight can be useful because a talk can become popular either due to the topic or the speaker. Therefore, if we want to create engaging and popular talks, we can consider bringing in speakers who have previously given popular talks, and we can also explore topics that have previously been successful. By doing so, there is a higher chance that our future talks will resonate with our audience and become popular."
      ],
      "metadata": {
        "id": "_WtzZ_hCYuh4"
      }
    },
    {
      "cell_type": "markdown",
      "source": [
        "#### Chart - 6"
      ],
      "metadata": {
        "id": "OH-pJp9IphqM"
      }
    },
    {
      "cell_type": "code",
      "source": [
        "# Chart - 6 visualization code"
      ],
      "metadata": {
        "id": "kuRf4wtuphqN"
      },
      "execution_count": null,
      "outputs": []
    },
    {
      "cell_type": "code",
      "source": [
        "dataset[['title', 'speaker_1','views', 'comments', 'duration']].sort_values('comments', ascending=False).head(10)"
      ],
      "metadata": {
        "id": "gUv75VCWKppp"
      },
      "execution_count": null,
      "outputs": []
    },
    {
      "cell_type": "markdown",
      "source": [
        "##### 1. Why did you pick the specific chart?"
      ],
      "metadata": {
        "id": "bbFf2-_FphqN"
      }
    },
    {
      "cell_type": "markdown",
      "source": [
        "I selected this chart to determine which talk became popular based on its number of comments. Since comments allow viewers to discuss the topic and share their thoughts and opinions, a higher number of comments can indicate that the topic is particularly interesting and engaging. Additionally, the speaker could also be a factor in generating more comments. Therefore, by looking at the title and speaker of the popular talks with high comment counts, we may be able to identify which topics and speakers are likely to generate more audience engagement in the future.\n",
        "\n",
        "\n",
        "\n"
      ],
      "metadata": {
        "id": "3KIMdgZVfHTu"
      }
    },
    {
      "cell_type": "markdown",
      "source": [
        "##### 2. What is/are the insight(s) found from the chart?"
      ],
      "metadata": {
        "id": "_ouA3fa0phqN"
      }
    },
    {
      "cell_type": "markdown",
      "source": [
        "According to the chart, the talk titled \"Militant Atheism\" by Richard Dawkins received the maximum number of comments, indicating that the topic and speaker were particularly engaging and sparked a lot of discussion among viewers."
      ],
      "metadata": {
        "id": "VECbqPI7phqN"
      }
    },
    {
      "cell_type": "markdown",
      "source": [
        "##### 3. Will the gained insights help creating a positive business impact? \n",
        "Are there any insights that lead to negative growth? Justify with specific reason."
      ],
      "metadata": {
        "id": "Seke61FWphqN"
      }
    },
    {
      "cell_type": "markdown",
      "source": [
        "This insight highlights that the \"Militant Atheism\" talk by Richard Dawkins received a high number of comments, indicating that it was a particularly engaging and thought-provoking topic. To increase the business, TED could consider bringing in speakers who can explore similar topics that are likely to spark audience engagement and generate more comments. Additionally, they could also try pairing speakers with different topics to see if they can generate similar levels of audience engagement and comments."
      ],
      "metadata": {
        "id": "DW4_bGpfphqN"
      }
    },
    {
      "cell_type": "markdown",
      "source": [
        "#### Chart - 7"
      ],
      "metadata": {
        "id": "PIIx-8_IphqN"
      }
    },
    {
      "cell_type": "code",
      "source": [
        "# Chart - 7 visualization code"
      ],
      "metadata": {
        "id": "lqAIGUfyphqO"
      },
      "execution_count": null,
      "outputs": []
    },
    {
      "cell_type": "code",
      "source": [
        "df = pd.DataFrame(dataset)\n",
        "df"
      ],
      "metadata": {
        "id": "PSMm9oDNe9Dj"
      },
      "execution_count": null,
      "outputs": []
    },
    {
      "cell_type": "code",
      "source": [
        "df['published_year'] = pd.DatetimeIndex(df['published_date']).year\n",
        "df.head()"
      ],
      "metadata": {
        "id": "1EdZojvA6aUG"
      },
      "execution_count": null,
      "outputs": []
    },
    {
      "cell_type": "code",
      "source": [
        "df.loc[:, 'published_year']"
      ],
      "metadata": {
        "id": "EyjyjpQ0fhdb"
      },
      "execution_count": null,
      "outputs": []
    },
    {
      "cell_type": "code",
      "source": [
        "df['published_year'].unique()"
      ],
      "metadata": {
        "id": "ytifgUepgBLx"
      },
      "execution_count": null,
      "outputs": []
    },
    {
      "cell_type": "code",
      "source": [
        "df['published_year'].nunique()"
      ],
      "metadata": {
        "id": "d9YuUUJ6gJn4"
      },
      "execution_count": null,
      "outputs": []
    },
    {
      "cell_type": "code",
      "execution_count": null,
      "metadata": {
        "id": "5ahpZfXMFmLV"
      },
      "outputs": [],
      "source": [
        "years=df['published_year'].unique()\n",
        "print(years)\n",
        "number_of_talks=list(df['published_year'].value_counts(ascending=True).sort_index(ascending=True))\n",
        "print(number_of_talks)"
      ]
    },
    {
      "cell_type": "code",
      "execution_count": null,
      "metadata": {
        "id": "AqgoHqhtLM_Z"
      },
      "outputs": [],
      "source": [
        "plt.plot(years,number_of_talks,color='red', marker='o')\n",
        "plt.title('Number_of_talks published v/s years',fontdict={'fontsize':20,'fontweight':'bold','fontstyle':'oblique'})\n",
        "plt.xlabel('Years',fontdict={'fontsize':20,'fontweight':'normal','fontstyle':'oblique'})\n",
        "plt.ylabel('Number of talks published',fontdict={'fontsize':20,'fontweight':'normal','fontstyle':'oblique'})\n",
        "plt.grid(True)\n",
        "plt.show()"
      ]
    },
    {
      "cell_type": "markdown",
      "source": [
        "##### 1. Why did you pick the specific chart?"
      ],
      "metadata": {
        "id": "t27r6nlMphqO"
      }
    },
    {
      "cell_type": "markdown",
      "source": [
        "I have chosen this graph to gain insights into the growth or decline of the business.\n",
        "\n",
        "\n",
        "\n"
      ],
      "metadata": {
        "id": "iv6ro40sphqO"
      }
    },
    {
      "cell_type": "markdown",
      "source": [
        "##### 2. What is/are the insight(s) found from the chart?"
      ],
      "metadata": {
        "id": "r2jJGEOYphqO"
      }
    },
    {
      "cell_type": "markdown",
      "source": [
        "Based on the data provided in the graph from the years 2006-2020, we can see that there was a steady increase in the number of talks published from 2006 to 2012. However, after 2012, there was a decrease in the number of talks published. The trend reversed in 2015, and the number of talks published began to increase again and continued to grow. The maximum number of talks published occurred in 2019. However, the data only goes up to April 2020, so we cannot say for certain if the trend of decreasing talks published has continued after that time."
      ],
      "metadata": {
        "id": "Po6ZPi4hphqO"
      }
    },
    {
      "cell_type": "markdown",
      "source": [
        "##### 3. Will the gained insights help creating a positive business impact? \n",
        "Are there any insights that lead to negative growth? Justify with specific reason."
      ],
      "metadata": {
        "id": "b0JNsNcRphqO"
      }
    },
    {
      "cell_type": "markdown",
      "source": [
        "Yes, that's a good point. The number of talks published each year can be used as an indicator of the growth or expansion of the business. If there is a steady increase in the number of talks published, it could be an indication that the business is growing and expanding. However, it is important to keep in mind that there could be other factors affecting the number of talks published, such as changes in the company's policies or resources, which could also impact the growth of the business."
      ],
      "metadata": {
        "id": "sz-2_II47Mva"
      }
    },
    {
      "cell_type": "markdown",
      "source": [
        "#### Chart - 8"
      ],
      "metadata": {
        "id": "BZR9WyysphqO"
      }
    },
    {
      "cell_type": "code",
      "source": [
        "# Chart - 8 visualization code"
      ],
      "metadata": {
        "id": "TdPTWpAVphqO"
      },
      "execution_count": null,
      "outputs": []
    },
    {
      "cell_type": "code",
      "source": [
        "ted_final=df[['published_year','views']]\n",
        "ted_final"
      ],
      "metadata": {
        "id": "z5KKtT_uG7YM"
      },
      "execution_count": null,
      "outputs": []
    },
    {
      "cell_type": "code",
      "source": [
        "ted_final['published_year'].unique()"
      ],
      "metadata": {
        "id": "mksYtIF6H9gR"
      },
      "execution_count": null,
      "outputs": []
    },
    {
      "cell_type": "code",
      "source": [
        " df3=df.pivot_table(columns='published_year', values='views',aggfunc='sum')\n",
        " df3"
      ],
      "metadata": {
        "id": "k9QdXnwlYTJj"
      },
      "execution_count": null,
      "outputs": []
    },
    {
      "cell_type": "code",
      "source": [
        "df3.plot(kind='bar')\n",
        "plt.title('views by year',fontdict={'fontsize':20,'fontweight':'bold','fontstyle':'oblique'})\n",
        "plt.ylabel('views',fontdict={'fontsize':20,'fontweight':'normal'})\n",
        "plt.xlabel('year',fontdict={'fontsize':20,'fontweight':'normal'})\n",
        "plt.rcParams['figure.figsize'] = (10,10)\n"
      ],
      "metadata": {
        "id": "hevM8auNdd5I"
      },
      "execution_count": null,
      "outputs": []
    },
    {
      "cell_type": "code",
      "source": [
        "dataset['number_of_lang'] = dataset['available_lang'].apply(lambda x: len(x))\n",
        "snb.distplot(dataset['number_of_lang'])\n"
      ],
      "metadata": {
        "id": "uI9Snb7GxuPe"
      },
      "execution_count": null,
      "outputs": []
    },
    {
      "cell_type": "markdown",
      "source": [
        "##### 1. Why did you pick the specific chart?"
      ],
      "metadata": {
        "id": "jj7wYXLtphqO"
      }
    },
    {
      "cell_type": "markdown",
      "source": [
        "This graph can provide insight into the popularity of the TED talks each year and can help us understand which years had more viewer engagement."
      ],
      "metadata": {
        "id": "Ob8u6rCTphqO"
      }
    },
    {
      "cell_type": "markdown",
      "source": [
        "##### 2. What is/are the insight(s) found from the chart?"
      ],
      "metadata": {
        "id": "eZrbJ2SmphqO"
      }
    },
    {
      "cell_type": "markdown",
      "source": [
        "This graph shows us that the total number of views of TED talks has been increasing consistently over the years, with a sharp decline in 2020 (up until April), which may be due to the global pandemic and the resulting changes in people's behavior and priorities. It will be interesting to see if this trend continues or if there will be a rebound in views in the coming years.\n",
        "\n",
        "\n",
        "\n"
      ],
      "metadata": {
        "id": "mZtgC_hjphqO"
      }
    },
    {
      "cell_type": "markdown",
      "source": [
        "##### 3. Will the gained insights help creating a positive business impact? \n",
        "Are there any insights that lead to negative growth? Justify with specific reason."
      ],
      "metadata": {
        "id": "rFu4xreNphqO"
      }
    },
    {
      "cell_type": "markdown",
      "source": [
        " While the increasing popularity of TED talks is a positive sign for the business, it's important to continue to strive for growth and find ways to engage even more viewers. This could include exploring new topics, featuring diverse speakers, or experimenting with different formats to keep the audience engaged and interested."
      ],
      "metadata": {
        "id": "ey_0qi68phqO"
      }
    },
    {
      "cell_type": "markdown",
      "source": [
        "#### Chart - 9"
      ],
      "metadata": {
        "id": "YJ55k-q6phqO"
      }
    },
    {
      "cell_type": "code",
      "source": [
        "# Chart - 9 visualization code"
      ],
      "metadata": {
        "id": "B2aS4O1ophqO"
      },
      "execution_count": null,
      "outputs": []
    },
    {
      "cell_type": "code",
      "source": [
        "ted=dataset.groupby(['event'],as_index=False).agg({'views':'sum','talk_id':'count'}).sort_values('views',ascending=False).reset_index()[:10]\n",
        "ted['talk_id']=ted['views']/ted['talk_id']\n",
        "plt.figure(figsize=(10,6))\n",
        "ax=snb.barplot(x='event',y='views',data=ted)\n",
        "labels=ax.get_xticklabels()\n",
        "plt.title('Top TED Events by views')\n",
        "plt.ylabel('views in million')\n",
        "plt.setp(labels, rotation=50);\n"
      ],
      "metadata": {
        "id": "7fgEhYX4yOPs"
      },
      "execution_count": null,
      "outputs": []
    },
    {
      "cell_type": "markdown",
      "source": [
        "##### 1. Why did you pick the specific chart?"
      ],
      "metadata": {
        "id": "gCFgpxoyphqP"
      }
    },
    {
      "cell_type": "markdown",
      "source": [
        "I have selected this chart to know which event was the most popular among the viewers."
      ],
      "metadata": {
        "id": "TVxDimi2phqP"
      }
    },
    {
      "cell_type": "markdown",
      "source": [
        "##### 2. What is/are the insight(s) found from the chart?"
      ],
      "metadata": {
        "id": "OVtJsKN_phqQ"
      }
    },
    {
      "cell_type": "markdown",
      "source": [
        "The insight provided by the chart reveals the top ten TED events by views, with the TED-ED event being the most popular among viewers and We can see that the TED2015 event was the most popular among viewers, followed by TED2014 and TEDGlobal 2013. Knowing which event was the most popular can help in analyzing the factors that contributed to its success and replicate those factors in future events to increase the business."
      ],
      "metadata": {
        "id": "ngGi97qjphqQ"
      }
    },
    {
      "cell_type": "markdown",
      "source": [
        "##### 3. Will the gained insights help creating a positive business impact? \n",
        "Are there any insights that lead to negative growth? Justify with specific reason."
      ],
      "metadata": {
        "id": "lssrdh5qphqQ"
      }
    },
    {
      "cell_type": "markdown",
      "source": [
        "By analyzing the successful strategies and arrangements of the most popular event, we can apply them to other events and potentially increase their popularity as well. This can ultimately help in the growth of the business."
      ],
      "metadata": {
        "id": "tBpY5ekJphqQ"
      }
    },
    {
      "cell_type": "markdown",
      "source": [
        "#### Chart - 10"
      ],
      "metadata": {
        "id": "U2RJ9gkRphqQ"
      }
    },
    {
      "cell_type": "code",
      "source": [
        "# Chart - 10 visualization code"
      ],
      "metadata": {
        "id": "GM7a4YP4phqQ"
      },
      "execution_count": null,
      "outputs": []
    },
    {
      "cell_type": "code",
      "source": [
        "dataset['occupations'].nunique()"
      ],
      "metadata": {
        "id": "sdove5WqzZku"
      },
      "execution_count": null,
      "outputs": []
    },
    {
      "cell_type": "code",
      "source": [
        "type('occupations')"
      ],
      "metadata": {
        "id": "nzMpZ52-6SIS"
      },
      "execution_count": null,
      "outputs": []
    },
    {
      "cell_type": "code",
      "source": [
        "a=dataset['occupations'].value_counts().head(10)\n",
        "print(z)"
      ],
      "metadata": {
        "id": "mgzwHpY42FP0"
      },
      "execution_count": null,
      "outputs": []
    },
    {
      "cell_type": "code",
      "source": [
        "data = a\n",
        "df = pd.DataFrame(data)\n",
        "print(df)\n",
        "\n"
      ],
      "metadata": {
        "id": "i_0F9zbBOSRt"
      },
      "execution_count": null,
      "outputs": []
    },
    {
      "cell_type": "code",
      "source": [
        "abc=pd.Series()\n"
      ],
      "metadata": {
        "id": "viL9BsvgP2jd"
      },
      "execution_count": null,
      "outputs": []
    },
    {
      "cell_type": "code",
      "source": [
        "# Create the plot object\n",
        "a.plot(kind='bar',color='green',width=0.8)\n",
        "plt.title('',fontdict={'fontsize':20,'fontweight':'bold','fontstyle':'oblique'})\n",
        "plt.ylabel('Number of speakers from that occupation',fontdict={'fontsize':20,'fontweight':'normal'})\n",
        "plt.xlabel('Occupations',fontdict={'fontsize':20,'fontweight':'normal'})\n",
        "plt.rcParams['figure.figsize'] = (10,10)\n"
      ],
      "metadata": {
        "id": "vyOXxDhG2Eo_"
      },
      "execution_count": null,
      "outputs": []
    },
    {
      "cell_type": "markdown",
      "source": [
        "##### 1. Why did you pick the specific chart?"
      ],
      "metadata": {
        "id": "1M8mcRywphqQ"
      }
    },
    {
      "cell_type": "markdown",
      "source": [
        " we can analyze which professions have more influence among the viewers."
      ],
      "metadata": {
        "id": "8agQvks0phqQ"
      }
    },
    {
      "cell_type": "markdown",
      "source": [
        "##### 2. What is/are the insight(s) found from the chart?"
      ],
      "metadata": {
        "id": "tgIPom80phqQ"
      }
    },
    {
      "cell_type": "markdown",
      "source": [
        " Knowing that the speakers with the highest views come from the writers' occupation and also, we can see that the occupation with the highest views is \"journalist,\" followed by \"entrepreneur,\" and \"artist\". This can help in planning future events or inviting speakers from similar professions to attract more viewers. It can also give insights into what topics and skills are most popular among the viewers, and tailor the talks accordingly."
      ],
      "metadata": {
        "id": "Qp13pnNzphqQ"
      }
    },
    {
      "cell_type": "markdown",
      "source": [
        "##### 3. Will the gained insights help creating a positive business impact? \n",
        "Are there any insights that lead to negative growth? Justify with specific reason."
      ],
      "metadata": {
        "id": "JMzcOPDDphqR"
      }
    },
    {
      "cell_type": "markdown",
      "source": [
        "Yes, inviting more writers,journalist,entrepreneur as speakers for TED talks could potentially attract more viewers who are interested in literary and intellectual topics. It may also help broaden the diversity of perspectives and insights presented in TED talks. However, it's important to keep in mind that the popularity of a speaker is not solely determined by their occupation, but also by the topic they are presenting and how engaging they are as a speaker."
      ],
      "metadata": {
        "id": "R4Ka1PC2phqR"
      }
    },
    {
      "cell_type": "markdown",
      "source": [
        "#### Chart - 11"
      ],
      "metadata": {
        "id": "x-EpHcCOp1ci"
      }
    },
    {
      "cell_type": "code",
      "source": [
        "# Chart - 11 visualization code"
      ],
      "metadata": {
        "id": "mAQTIvtqp1cj"
      },
      "execution_count": null,
      "outputs": []
    },
    {
      "cell_type": "code",
      "source": [
        "dataset[['title', 'speaker_1','views', 'duration','number_of_lang']].sort_values('duration', ascending=False).head(10)"
      ],
      "metadata": {
        "id": "U5hjw9PDV95g"
      },
      "execution_count": null,
      "outputs": []
    },
    {
      "cell_type": "markdown",
      "source": [
        "##### 1. Why did you pick the specific chart?"
      ],
      "metadata": {
        "id": "X_VqEhTip1ck"
      }
    },
    {
      "cell_type": "markdown",
      "source": [
        "As we have seen, lengthier videos tend to have less viewers, but there are those that have more viewers despite their length, therefore I was curious as to the title, speaker, and views of these films."
      ],
      "metadata": {
        "id": "-vsMzt_np1ck"
      }
    },
    {
      "cell_type": "markdown",
      "source": [
        "##### 2. What is/are the insight(s) found from the chart?"
      ],
      "metadata": {
        "id": "8zGJKyg5p1ck"
      }
    },
    {
      "cell_type": "markdown",
      "source": [
        "This insight suggests that while shorter talks tend to be more popular, there are exceptions to this rule. In the case of Chris Anderson's talk, the topic of climate change may have been particularly compelling to viewers, leading to its popularity despite its length. This insight suggests that while video length is an important consideration for TED talks, it is not the only factor in determining a talk's success. "
      ],
      "metadata": {
        "id": "ZYdMsrqVp1ck"
      }
    },
    {
      "cell_type": "markdown",
      "source": [
        "##### 3. Will the gained insights help creating a positive business impact? \n",
        "Are there any insights that lead to negative growth? Justify with specific reason."
      ],
      "metadata": {
        "id": "PVzmfK_Ep1ck"
      }
    },
    {
      "cell_type": "markdown",
      "source": [
        "Yes, that is a great strategy. Additionally, we could also analyze the content of the video to identify what made it so engaging and use those insights to create more content that resonates with our viewers. It is also important to note that while video length may be a factor, it is not the only factor that determines viewership. We should continue to focus on producing high-quality content that is informative, engaging, and relevant to our audience's interests.\n",
        "\n",
        "\n",
        "\n",
        "\n"
      ],
      "metadata": {
        "id": "druuKYZpp1ck"
      }
    },
    {
      "cell_type": "markdown",
      "source": [
        "#### Chart - 12"
      ],
      "metadata": {
        "id": "n3dbpmDWp1ck"
      }
    },
    {
      "cell_type": "code",
      "source": [
        "# Chart - 12 visualization code"
      ],
      "metadata": {
        "id": "bwevp1tKp1ck"
      },
      "execution_count": null,
      "outputs": []
    },
    {
      "cell_type": "code",
      "source": [
        "dataset.head()"
      ],
      "metadata": {
        "id": "3XrdDKOsErd_"
      },
      "execution_count": null,
      "outputs": []
    },
    {
      "cell_type": "code",
      "source": [
        "relaible_data=dataset[['title','speaker_1','occupations','topics']]\n",
        "relaible_data"
      ],
      "metadata": {
        "id": "9WyBPyIMR9sx"
      },
      "execution_count": null,
      "outputs": []
    },
    {
      "cell_type": "markdown",
      "source": [
        "##### 1. Why did you pick the specific chart?"
      ],
      "metadata": {
        "id": "ylSl6qgtp1ck"
      }
    },
    {
      "cell_type": "markdown",
      "source": [
        "I chose this to assess the reliability of the occupation and the title of the speaker's presentation."
      ],
      "metadata": {
        "id": "m2xqNkiQp1ck"
      }
    },
    {
      "cell_type": "markdown",
      "source": [
        "##### 2. What is/are the insight(s) found from the chart?"
      ],
      "metadata": {
        "id": "ZWILFDl5p1ck"
      }
    },
    {
      "cell_type": "markdown",
      "source": [
        "The speaker's occupation and the content of their presentation appear to be reliable, as the talk's title aligns with their profession.\n",
        "\n",
        "\n",
        "\n"
      ],
      "metadata": {
        "id": "x-lUsV2mp1ck"
      }
    },
    {
      "cell_type": "markdown",
      "source": [
        "##### 3. Will the gained insights help creating a positive business impact? \n",
        "Are there any insights that lead to negative growth? Justify with specific reason."
      ],
      "metadata": {
        "id": "M7G43BXep1ck"
      }
    },
    {
      "cell_type": "markdown",
      "source": [
        "This is indeed helpful, as the credibility of the speaker's occupation and their talk is crucial for TED to provide authentic and valuable content. If the speaker's expertise and the content they deliver are not reliable, TED's reputation could be at risk, and the viewers may lose trust, resulting in a negative impact on the business.\n",
        "\n",
        "\n"
      ],
      "metadata": {
        "id": "5wwDJXsLp1cl"
      }
    },
    {
      "cell_type": "markdown",
      "source": [
        "#### Chart - 13"
      ],
      "metadata": {
        "id": "Ag9LCva-p1cl"
      }
    },
    {
      "cell_type": "code",
      "source": [
        "# Chart - 13 visualization code"
      ],
      "metadata": {
        "id": "EUfxeq9-p1cl"
      },
      "execution_count": null,
      "outputs": []
    },
    {
      "cell_type": "code",
      "source": [
        "df2=pd.DataFrame(dataset)\n",
        "df2"
      ],
      "metadata": {
        "id": "CxcAyAemBiVZ"
      },
      "execution_count": null,
      "outputs": []
    },
    {
      "cell_type": "code",
      "source": [
        "df2['published_month'] = pd.DatetimeIndex(df2['published_date']).month\n",
        "df2.head()"
      ],
      "metadata": {
        "id": "KnvmmnoIANCC"
      },
      "execution_count": null,
      "outputs": []
    },
    {
      "cell_type": "code",
      "source": [
        "df2.loc[:, 'published_month']"
      ],
      "metadata": {
        "id": "H5c8ZoA8-1Um"
      },
      "execution_count": null,
      "outputs": []
    },
    {
      "cell_type": "code",
      "execution_count": null,
      "metadata": {
        "id": "5CAsl6WK-_rh"
      },
      "outputs": [],
      "source": [
        "month=df2['published_month'].unique()\n",
        "print(month)\n",
        "number_of_published_talks=list(df2['published_month'].value_counts(ascending=True).sort_index(ascending=True))\n",
        "print(number_of_published_talks)"
      ]
    },
    {
      "cell_type": "code",
      "execution_count": null,
      "metadata": {
        "id": "REaY5oWKCa5J"
      },
      "outputs": [],
      "source": [
        "plt.barh(month,number_of_published_talks)\n",
        " # setting label of y-axis\n",
        "plt.ylabel(\"Month\",fontdict={'fontsize':15,'fontweight':'normal','fontstyle':'oblique'})\n",
        " # setting label of x-axis\n",
        "plt.xlabel(\"number of  published talks\",fontdict={'fontsize':15,'fontweight':'normal','fontstyle':'oblique'})\n",
        "plt.title(\"Published talks in a month\",fontdict={'fontsize':15,'fontweight':'normal','fontstyle':'oblique'})\n",
        "plt.show()"
      ]
    },
    {
      "cell_type": "markdown",
      "source": [
        "##### 1. Why did you pick the specific chart?"
      ],
      "metadata": {
        "id": "E6MkPsBcp1cl"
      }
    },
    {
      "cell_type": "markdown",
      "source": [
        "I chose this chart out of curiosity to determine which month had the highest number of talks published by TED.\n",
        "\n",
        "\n",
        "\n"
      ],
      "metadata": {
        "id": "2GtyJl5FtNVF"
      }
    },
    {
      "cell_type": "markdown",
      "source": [
        "##### 2. What is/are the insight(s) found from the chart?"
      ],
      "metadata": {
        "id": "2cELzS2fp1cl"
      }
    },
    {
      "cell_type": "markdown",
      "source": [
        "September, which is the 9th month of the year, had the highest number of talks published by TED."
      ],
      "metadata": {
        "id": "ozQPc2_Ip1cl"
      }
    },
    {
      "cell_type": "markdown",
      "source": [
        "##### 3. Will the gained insights help creating a positive business impact? \n",
        "Are there any insights that lead to negative growth? Justify with specific reason."
      ],
      "metadata": {
        "id": "3MPXvC8up1cl"
      }
    },
    {
      "cell_type": "markdown",
      "source": [
        "Although it may not hold significant importance, the chart displays the trend of talks published by TED on a monthly basis throughout the year.\n"
      ],
      "metadata": {
        "id": "GL8l1tdLp1cl"
      }
    },
    {
      "cell_type": "markdown",
      "source": [
        "#### Chart - 14 - Correlation Heatmap"
      ],
      "metadata": {
        "id": "NC_X3p0fY2L0"
      }
    },
    {
      "cell_type": "code",
      "source": [
        "# Correlation Heatmap visualization code\n",
        "dataset2= dataset.copy() "
      ],
      "metadata": {
        "id": "xyC9zolEZNRQ"
      },
      "execution_count": null,
      "outputs": []
    },
    {
      "cell_type": "code",
      "source": [
        "dataset2.columns\n"
      ],
      "metadata": {
        "id": "hewSeQfVNA9S"
      },
      "execution_count": null,
      "outputs": []
    },
    {
      "cell_type": "code",
      "source": [
        "fig, ax = plt.subplots(figsize=(15,10))\n",
        "snb.heatmap(dataset2.corr(), annot= True, cmap= \"autumn\",ax=ax)\n"
      ],
      "metadata": {
        "id": "RP0k9COqNAOl"
      },
      "execution_count": null,
      "outputs": []
    },
    {
      "cell_type": "markdown",
      "source": [
        "##### 1. Why did you pick the specific chart?"
      ],
      "metadata": {
        "id": "UV0SzAkaZNRQ"
      }
    },
    {
      "cell_type": "markdown",
      "source": [
        "i have picked up this chart because correlation heatmap visualize the strength of relationships between numerical variables."
      ],
      "metadata": {
        "id": "DVPuT8LYZNRQ"
      }
    },
    {
      "cell_type": "markdown",
      "source": [
        "##### 2. What is/are the insight(s) found from the chart?"
      ],
      "metadata": {
        "id": "YPEH6qLeZNRQ"
      }
    },
    {
      "cell_type": "markdown",
      "source": [
        "Correlation ranges from -1 to +1."
      ],
      "metadata": {
        "id": "bfSqtnDqZNRR"
      }
    },
    {
      "cell_type": "markdown",
      "source": [
        "#### Chart - 15 - Pair Plot "
      ],
      "metadata": {
        "id": "q29F0dvdveiT"
      }
    },
    {
      "cell_type": "code",
      "source": [
        "# Pair Plot visualization code"
      ],
      "metadata": {
        "id": "o58-TEIhveiU"
      },
      "execution_count": null,
      "outputs": []
    },
    {
      "cell_type": "code",
      "source": [
        "snb.pairplot(dataset,diag_kind=\"hist\",dropna=\"True\")\n"
      ],
      "metadata": {
        "id": "cMZ1bcsQCQao"
      },
      "execution_count": null,
      "outputs": []
    },
    {
      "cell_type": "markdown",
      "source": [
        "##### 1. Why did you pick the specific chart?"
      ],
      "metadata": {
        "id": "EXh0U9oCveiU"
      }
    },
    {
      "cell_type": "markdown",
      "source": [
        "Answer Here."
      ],
      "metadata": {
        "id": "eMmPjTByveiU"
      }
    },
    {
      "cell_type": "markdown",
      "source": [
        "##### 2. What is/are the insight(s) found from the chart?"
      ],
      "metadata": {
        "id": "22aHeOlLveiV"
      }
    },
    {
      "cell_type": "markdown",
      "source": [
        "Answer Here"
      ],
      "metadata": {
        "id": "uPQ8RGwHveiV"
      }
    },
    {
      "cell_type": "markdown",
      "source": [
        "## ***5. Hypothesis Testing***"
      ],
      "metadata": {
        "id": "g-ATYxFrGrvw"
      }
    },
    {
      "cell_type": "markdown",
      "source": [
        "### Based on your chart experiments, define three hypothetical statements from the dataset. In the next three questions, perform hypothesis testing to obtain final conclusion about the statements through your code and statistical testing."
      ],
      "metadata": {
        "id": "Yfr_Vlr8HBkt"
      }
    },
    {
      "cell_type": "markdown",
      "source": [
        "CONCLUSION-\n",
        "\n",
        "HYPOTHETICAL STATEMENT-1 \n",
        "\n",
        "A t-statistic of -114.288 and a p-value of 0.0 suggest that there is strong evidence to reject the null hypothesis and support the alternative hypothesis that the population mean is not equal to the specific value being tested.\n",
        "\n",
        "HYPOTHETICAL STATEMENT -2 \n",
        "\n",
        " A Pearson correlation coefficient of 0.0929 and a very small p-value of 7.517721887816747e-08 suggest that there is a statistically significant, but weak positive linear relationship between the two variables.\n",
        "\n",
        " HYPOTHETICAL STATEMENT-3 \n",
        "\n",
        "A chi-square statistic of 435774.7662906001 and a very small p-value of 6.181054395856784e-08 suggest that there is a statistically significant difference between the observed and expected frequencies, and there is evidence of a true association or goodness of fit."
      ],
      "metadata": {
        "id": "-7MS06SUHkB-"
      }
    },
    {
      "cell_type": "markdown",
      "source": [
        "### Hypothetical Statement - 1"
      ],
      "metadata": {
        "id": "8yEUt7NnHlrM"
      }
    },
    {
      "cell_type": "markdown",
      "source": [
        "#### 1. State Your research hypothesis as a null hypothesis and alternate hypothesis."
      ],
      "metadata": {
        "id": "tEA2Xm5dHt1r"
      }
    },
    {
      "cell_type": "markdown",
      "source": [
        "Null hypothesis: There is no relationship between number of comments  and the number of views it receives.\n",
        "\n",
        "\n",
        "Alternative hypothesis: There is a relationship between number of comments and the number of views it receives."
      ],
      "metadata": {
        "id": "HI9ZP0laH0D-"
      }
    },
    {
      "cell_type": "markdown",
      "source": [
        "#### 2. Perform an appropriate statistical test."
      ],
      "metadata": {
        "id": "I79__PHVH19G"
      }
    },
    {
      "cell_type": "code",
      "source": [
        "# Perform Statistical Test to obtain P-Value\n"
      ],
      "metadata": {
        "id": "oZrfquKtyian"
      },
      "execution_count": null,
      "outputs": []
    },
    {
      "cell_type": "code",
      "source": [
        "# Check for missing values\n",
        "print(dataset.isna().sum())\n",
        "\n",
        "# Drop rows with missing values\n",
        "dataset.dropna(inplace=True)\n",
        "\n",
        "# Fill missing values with mean\n",
        "dataset.fillna(dataset.mean(), inplace=True)\n",
        "\n",
        "# Fill missing values with median\n",
        "dataset.fillna(dataset.median(), inplace=True)\n"
      ],
      "metadata": {
        "id": "CE6vwR_FqW_e"
      },
      "execution_count": null,
      "outputs": []
    },
    {
      "cell_type": "code",
      "source": [
        "import pandas as pd\n",
        "from scipy.stats import ttest_ind\n",
        "\n",
        "# Load the data into a pandas DataFrame\n",
        "\n",
        "# Extract the two columns of interest\n",
        "column1 = dataset['comments']\n",
        "column2 = dataset['views']\n",
        "\n",
        "# Conduct a two-sample t-test\n",
        "t_stat, p_val = ttest_ind(column1, column2)\n",
        "\n",
        "# Print the results\n",
        "print(\"T-statistic: \", t_stat)\n",
        "print(\"P-value: \", p_val)\n"
      ],
      "metadata": {
        "id": "4zWI7_QCpM34"
      },
      "execution_count": null,
      "outputs": []
    },
    {
      "cell_type": "markdown",
      "source": [
        "##### Which statistical test have you done to obtain P-Value?"
      ],
      "metadata": {
        "id": "Ou-I18pAyIpj"
      }
    },
    {
      "cell_type": "markdown",
      "source": [
        "I employed a two-sample t-test to obtain the P-value."
      ],
      "metadata": {
        "id": "s2U0kk00ygSB"
      }
    },
    {
      "cell_type": "markdown",
      "source": [
        "##### Why did you choose the specific statistical test?"
      ],
      "metadata": {
        "id": "fF3858GYyt-u"
      }
    },
    {
      "cell_type": "markdown",
      "source": [
        "I employed a two-sample t-test because it can assist in detecting significant differences between two groups."
      ],
      "metadata": {
        "id": "HO4K0gP5y3B4"
      }
    },
    {
      "cell_type": "markdown",
      "source": [
        "### Hypothetical Statement - 2"
      ],
      "metadata": {
        "id": "4_0_7-oCpUZd"
      }
    },
    {
      "cell_type": "markdown",
      "source": [
        "#### 1. State Your research hypothesis as a null hypothesis and alternate hypothesis."
      ],
      "metadata": {
        "id": "hwyV_J3ipUZe"
      }
    },
    {
      "cell_type": "markdown",
      "source": [
        "Null hypothesis: There is no relationship between duration and views of the talk's.\n",
        "\n",
        "\n",
        "Alternative hypothesis: There is a relationship between duration and views of the talk's."
      ],
      "metadata": {
        "id": "GSQREndFtSDf"
      }
    },
    {
      "cell_type": "markdown",
      "source": [
        "#### 2. Perform an appropriate statistical test."
      ],
      "metadata": {
        "id": "3yB-zSqbpUZe"
      }
    },
    {
      "cell_type": "code",
      "source": [
        "# Perform Statistical Test to obtain P-Value"
      ],
      "metadata": {
        "id": "sWxdNTXNpUZe"
      },
      "execution_count": null,
      "outputs": []
    },
    {
      "cell_type": "code",
      "source": [
        "import scipy.stats as stats\n",
        "\n",
        "# Create two arrays of data\n",
        "x = dataset['duration']\n",
        "y = dataset['views']\n",
        "\n",
        "# Calculate the Pearson correlation coefficient and p-value\n",
        "corr_coef, p_value = stats.pearsonr(x, y)\n",
        "\n",
        "# Print the results\n",
        "print('Pearson correlation coefficient:', corr_coef)\n",
        "print('P-value:', p_value)\n"
      ],
      "metadata": {
        "id": "hqHxlyHYuSwG"
      },
      "execution_count": null,
      "outputs": []
    },
    {
      "cell_type": "markdown",
      "source": [
        "##### Which statistical test have you done to obtain P-Value?"
      ],
      "metadata": {
        "id": "dEUvejAfpUZe"
      }
    },
    {
      "cell_type": "markdown",
      "source": [
        "I have employed Pearson correlation for finding P-value ."
      ],
      "metadata": {
        "id": "oLDrPz7HpUZf"
      }
    },
    {
      "cell_type": "markdown",
      "source": [
        "##### Why did you choose the specific statistical test?"
      ],
      "metadata": {
        "id": "Fd15vwWVpUZf"
      }
    },
    {
      "cell_type": "markdown",
      "source": [
        "The reason for using Pearson correlation coefficient is that it enables us to calculate the p-value when testing for the significance of the correlation between two continuous variables. This method does not require assuming that the data follow a normal distribution or relying on the t-test. Therefore, it provides a robust and reliable way to assess the correlation between two continuous variables."
      ],
      "metadata": {
        "id": "4xOGYyiBpUZf"
      }
    },
    {
      "cell_type": "markdown",
      "source": [
        "### Hypothetical Statement - 3"
      ],
      "metadata": {
        "id": "bn_IUdTipZyH"
      }
    },
    {
      "cell_type": "markdown",
      "source": [
        "#### 1. State Your research hypothesis as a null hypothesis and alternate hypothesis."
      ],
      "metadata": {
        "id": "49K5P_iCpZyH"
      }
    },
    {
      "cell_type": "markdown",
      "source": [
        "Null hypothesis: There is no relationship between duration and comments of the talk's.\n",
        "\n",
        "\n",
        "Alternative hypothesis: There is a relationship between duration and comments of the talk's."
      ],
      "metadata": {
        "id": "IeF39-ppzxH6"
      }
    },
    {
      "cell_type": "markdown",
      "source": [
        "#### 2. Perform an appropriate statistical test."
      ],
      "metadata": {
        "id": "Nff-vKELpZyI"
      }
    },
    {
      "cell_type": "code",
      "source": [
        "# Perform Statistical Test to obtain P-Value"
      ],
      "metadata": {
        "id": "s6AnJQjtpZyI"
      },
      "execution_count": null,
      "outputs": []
    },
    {
      "cell_type": "code",
      "source": [
        "# Create a contingency table\n",
        "cont_table = pd.crosstab(dataset['comments'], dataset['duration'])\n",
        "\n",
        "# Conduct chi-square test\n",
        "chi2_stat, p_val, dof, exp_freq = stats.chi2_contingency(cont_table)\n",
        "\n",
        "# Print results\n",
        "print(\"Chi-square statistic:\", chi2_stat)\n",
        "print(\"p-value:\", p_val)\n"
      ],
      "metadata": {
        "id": "bCiaLANHzYsc"
      },
      "execution_count": null,
      "outputs": []
    },
    {
      "cell_type": "markdown",
      "source": [],
      "metadata": {
        "id": "2Y_3agPO1MOF"
      }
    },
    {
      "cell_type": "markdown",
      "source": [
        "##### Which statistical test have you done to obtain P-Value?"
      ],
      "metadata": {
        "id": "kLW572S8pZyI"
      }
    },
    {
      "cell_type": "markdown",
      "source": [
        "I have employed Chi-square test for finding P-value "
      ],
      "metadata": {
        "id": "ytWJ8v15pZyI"
      }
    },
    {
      "cell_type": "markdown",
      "source": [
        "##### Why did you choose the specific statistical test?"
      ],
      "metadata": {
        "id": "dWbDXHzopZyI"
      }
    },
    {
      "cell_type": "markdown",
      "source": [
        "By calculating the chi-square test statistic and obtaining the associated p-value, we can determine whether the observed association between the two categorical variables is likely due to chance or if it is statistically significant."
      ],
      "metadata": {
        "id": "M99G98V6pZyI"
      }
    },
    {
      "cell_type": "markdown",
      "source": [
        "## ***6. Feature Engineering & Data Pre-processing***"
      ],
      "metadata": {
        "id": "yLjJCtPM0KBk"
      }
    },
    {
      "cell_type": "markdown",
      "source": [
        "### 1. Handling Missing Values"
      ],
      "metadata": {
        "id": "xiyOF9F70UgQ"
      }
    },
    {
      "cell_type": "code",
      "source": [
        "# Handling Missing Values & Missing Value Imputation"
      ],
      "metadata": {
        "id": "iRsAHk1K0fpS"
      },
      "execution_count": null,
      "outputs": []
    },
    {
      "cell_type": "code",
      "source": [
        "#missing values\n",
        "dataset.isna().sum()\n"
      ],
      "metadata": {
        "id": "mi72tBFOJSVb"
      },
      "execution_count": null,
      "outputs": []
    },
    {
      "cell_type": "code",
      "source": [
        "# missing value percentage\n",
        "round((dataset.isna().sum() / len(dataset))*100,2)\n"
      ],
      "metadata": {
        "id": "ZcSbTRLoJgK1"
      },
      "execution_count": null,
      "outputs": []
    },
    {
      "cell_type": "code",
      "source": [
        "mn.matrix(dataset,figsize=(10,8));\n"
      ],
      "metadata": {
        "id": "ybFnpB06J5LK"
      },
      "execution_count": null,
      "outputs": []
    },
    {
      "cell_type": "code",
      "source": [
        "## Copy of data\n",
        "df = dataset.copy()\n",
        "df = df.dropna(axis=0)\n",
        "df.isna().sum()"
      ],
      "metadata": {
        "id": "gvIsi8qEKg08"
      },
      "execution_count": null,
      "outputs": []
    },
    {
      "cell_type": "code",
      "source": [
        "print('Dataset Size With Missing Values',dataset.shape)\n"
      ],
      "metadata": {
        "id": "P8UYPaoUKppG"
      },
      "execution_count": null,
      "outputs": []
    },
    {
      "cell_type": "code",
      "source": [
        "print('Dataset Size Without Missing Values',df.shape)\n"
      ],
      "metadata": {
        "id": "xlFDmuyIKylH"
      },
      "execution_count": null,
      "outputs": []
    },
    {
      "cell_type": "markdown",
      "source": [
        "#### What all missing value imputation techniques have you used and why did you use those techniques?"
      ],
      "metadata": {
        "id": "7wuGOrhz0itI"
      }
    },
    {
      "cell_type": "markdown",
      "source": [
        "I have employed percentage missing value imputation because this method provides a quick way to identify columns with missing values and the extent of missingness, which can be useful for deciding on an appropriate imputation method or deciding to drop the column altogether."
      ],
      "metadata": {
        "id": "1ixusLtI0pqI"
      }
    },
    {
      "cell_type": "markdown",
      "source": [
        "### 2. Handling Outliers"
      ],
      "metadata": {
        "id": "id1riN9m0vUs"
      }
    },
    {
      "cell_type": "code",
      "source": [
        "# Handling Outliers & Outlier treatments"
      ],
      "metadata": {
        "id": "M6w2CzZf04JK"
      },
      "execution_count": null,
      "outputs": []
    },
    {
      "cell_type": "code",
      "source": [
        "snb.boxplot(dataset['duration'], data= dataset)\n"
      ],
      "metadata": {
        "id": "DNUXj7WPTbRB"
      },
      "execution_count": null,
      "outputs": []
    },
    {
      "cell_type": "code",
      "source": [
        "data_duration_iqr=  dataset['duration'].quantile(0.75)-dataset['duration'].quantile(0.25)\n",
        "dataset['duration']= dataset['duration'].mask(dataset['duration']>(dataset['duration'].quantile(0.75)+1.5*data_duration_iqr), dataset['duration'].mean())\n",
        "\n"
      ],
      "metadata": {
        "id": "M_aIpVwgDYK-"
      },
      "execution_count": null,
      "outputs": []
    },
    {
      "cell_type": "code",
      "source": [
        "snb.boxplot(dataset['duration'], data= dataset)\n"
      ],
      "metadata": {
        "id": "AmOFTtAiDnNE"
      },
      "execution_count": null,
      "outputs": []
    },
    {
      "cell_type": "code",
      "source": [
        "snb.boxenplot(dataset['number_of_lang'], data= dataset)\n"
      ],
      "metadata": {
        "id": "pr7HzcQ8D6M6"
      },
      "execution_count": null,
      "outputs": []
    },
    {
      "cell_type": "code",
      "source": [
        "data_duration_iqr=  dataset['number_of_lang'].quantile(0.75)-dataset['number_of_lang'].quantile(0.25)\n",
        "dataset['number_of_lang']= dataset['number_of_lang'].mask(dataset['number_of_lang']>(dataset['number_of_lang'].quantile(0.75)+1.5*data_duration_iqr), dataset['number_of_lang'].mean())\n",
        "\n"
      ],
      "metadata": {
        "id": "bJNv8TriEMQ9"
      },
      "execution_count": null,
      "outputs": []
    },
    {
      "cell_type": "code",
      "source": [
        "snb.boxenplot(dataset['number_of_lang'], data= dataset)\n"
      ],
      "metadata": {
        "id": "IMSKRSYNEmp-"
      },
      "execution_count": null,
      "outputs": []
    },
    {
      "cell_type": "code",
      "source": [
        "snb.boxenplot(dataset['views'], data= dataset)\n"
      ],
      "metadata": {
        "id": "7LAxeUtYLrPW"
      },
      "execution_count": null,
      "outputs": []
    },
    {
      "cell_type": "code",
      "source": [
        "data_duration_iqr=  dataset['views'].quantile(0.75)-dataset['views'].quantile(0.25)\n",
        "dataset['views']= dataset['views'].mask(dataset['views']>(dataset['views'].quantile(0.75)+1.5*data_duration_iqr), dataset['views'].mean())\n",
        "\n"
      ],
      "metadata": {
        "id": "zBQdnvpfMRE6"
      },
      "execution_count": null,
      "outputs": []
    },
    {
      "cell_type": "code",
      "source": [
        "snb.boxenplot(dataset['views'], data= dataset)\n"
      ],
      "metadata": {
        "id": "1PZws863Mg-G"
      },
      "execution_count": null,
      "outputs": []
    },
    {
      "cell_type": "code",
      "source": [
        "snb.boxenplot(dataset['comments'], data= dataset)\n"
      ],
      "metadata": {
        "id": "kyhgPmrKMlMd"
      },
      "execution_count": null,
      "outputs": []
    },
    {
      "cell_type": "code",
      "source": [
        "data_duration_iqr=  dataset['comments'].quantile(0.75)-dataset['comments'].quantile(0.25)\n",
        "dataset['comments']= dataset['comments'].mask(dataset['comments']>(dataset['comments'].quantile(0.75)+1.5*data_duration_iqr), dataset['comments'].mean())"
      ],
      "metadata": {
        "id": "278GCHRUMuFk"
      },
      "execution_count": null,
      "outputs": []
    },
    {
      "cell_type": "code",
      "source": [
        "snb.boxenplot(dataset['comments'], data= dataset)\n"
      ],
      "metadata": {
        "id": "HSVAEBq4NEGu"
      },
      "execution_count": null,
      "outputs": []
    },
    {
      "cell_type": "markdown",
      "source": [
        "##### What all outlier treatment techniques have you used and why did you use those techniques?"
      ],
      "metadata": {
        "id": "578E2V7j08f6"
      }
    },
    {
      "cell_type": "markdown",
      "source": [
        "I have employed IQR (Interquartile Range) method,Tukey's method,mean value  to identify and replace outliers in the 'duration','num_of_lang','views','comments' variable.\n",
        "\n",
        "The reason for using this methods to handle outliers in the  columns, which may be due to measurement errors, data entry errors, or true extreme values in the distribution. Outliers can distort the data and affect the performance of models that rely on assumptions of normality and homoscedasticity.\n",
        "\n",
        "IQR=Calculates the interquartile range (IQR) of the columns, which is the difference between the third quartile (75th percentile) and the first quartile (25th percentile). \n",
        "\n",
        "Tukey's method is a commonly used method for identifying and replacing outliers in a dataset. \n",
        "\n",
        "By replacing the outliers with the mean value of the column, i am filling in missing data with a reasonable estimate that should not substantially impact the results of any subsequent analyses."
      ],
      "metadata": {
        "id": "8_3CRXOhI4QL"
      }
    },
    {
      "cell_type": "markdown",
      "source": [
        "### 3. Categorical Encoding"
      ],
      "metadata": {
        "id": "89xtkJwZ18nB"
      }
    },
    {
      "cell_type": "code",
      "source": [
        "# Encode your categorical columns\n",
        "!pip install category_encoders\n"
      ],
      "metadata": {
        "id": "21JmIYMG2hEo"
      },
      "execution_count": null,
      "outputs": []
    },
    {
      "cell_type": "code",
      "source": [
        "df_numeric = df[['talk_id', 'views', 'comments', 'duration', 'number_of_lang']]\n",
        "df_categorical = df[[ 'speaker_1','native_lang','topics',]]\n"
      ],
      "metadata": {
        "id": "YBv_y3k4Rxqd"
      },
      "execution_count": null,
      "outputs": []
    },
    {
      "cell_type": "code",
      "source": [
        "df_numeric.head()"
      ],
      "metadata": {
        "id": "FdHBnUKzTqi3"
      },
      "execution_count": null,
      "outputs": []
    },
    {
      "cell_type": "code",
      "source": [
        "df_categorical.head()"
      ],
      "metadata": {
        "id": "5WzW3-g4Rwyu"
      },
      "execution_count": null,
      "outputs": []
    },
    {
      "cell_type": "code",
      "source": [
        "print(df['speaker_1'].unique())\n",
        "print(df['native_lang'].unique())\n",
        "print(df['topics'].unique())"
      ],
      "metadata": {
        "id": "NUC-hs20UgXi"
      },
      "execution_count": null,
      "outputs": []
    },
    {
      "cell_type": "code",
      "source": [
        "from sklearn.preprocessing import LabelEncoder\n",
        "\n",
        "speaker_encoder = LabelEncoder()\n",
        "speaker_encoder.fit(df_categorical['speaker_1'])\n",
        "speaker_values = speaker_encoder.transform(df_categorical['speaker_1'])\n",
        "print(\"Before Encoding:\", list(df_categorical['speaker_1'][-10:]))\n",
        "print(\"After Encoding:\", speaker_values[-10:])\n",
        "print(\"The inverse from the encoding result:\", speaker_encoder.inverse_transform(speaker_values[-10:]))\n",
        "\n"
      ],
      "metadata": {
        "id": "cOOJEoMTW0jT"
      },
      "execution_count": null,
      "outputs": []
    },
    {
      "cell_type": "code",
      "source": [
        "from sklearn.preprocessing import OneHotEncoder\n",
        "\n",
        "native_lang_encoder = OneHotEncoder()\n",
        "native_lang_reshaped = np.array(df_categorical['native_lang']).reshape(-1, 1)\n",
        "native_lang_values = native_lang_encoder.fit_transform(native_lang_reshaped)\n",
        "\n",
        "print(df_categorical['native_lang'][:5])\n",
        "print()\n",
        "print(native_lang_values.toarray()[:5])\n",
        "print()\n",
        "print(native_lang_encoder.inverse_transform(native_lang_values)[:5])\n"
      ],
      "metadata": {
        "id": "SW_aSVF7gH4W"
      },
      "execution_count": null,
      "outputs": []
    },
    {
      "cell_type": "code",
      "source": [
        "from sklearn.preprocessing import LabelEncoder\n",
        "\n",
        "topics_encoder = LabelEncoder()\n",
        "topics_encoder.fit(df_categorical['topics'])\n",
        "topics_values = topics_encoder.transform(df_categorical['topics'])\n",
        "print(\"Before Encoding:\", list(df_categorical['topics'][-10:]))\n",
        "print(\"After Encoding:\", topics_values[-10:])\n",
        "print(\"The inverse from the encoding result:\", topics_encoder.inverse_transform(topics_values[-10:]))\n",
        "\n"
      ],
      "metadata": {
        "id": "Beu-3uJKglnn"
      },
      "execution_count": null,
      "outputs": []
    },
    {
      "cell_type": "code",
      "source": [
        "speaker=dataset.groupby('speaker_1').agg({'views' : 'mean'}).sort_values(['views'],ascending=False)\n",
        "speaker=speaker.to_dict()\n",
        "speaker=speaker.values()\n",
        "speaker=  list(speaker)[0]\n",
        "dataset['speaker_1_avg_views']=dataset['speaker_1'].map(speaker)\n",
        "plt.figure(figsize=(10,5))\n",
        "snb.distplot(dataset['speaker_1_avg_views'])\n",
        "\n"
      ],
      "metadata": {
        "id": "wsTuXi3Jm88R"
      },
      "execution_count": null,
      "outputs": []
    },
    {
      "cell_type": "markdown",
      "source": [
        "distribution plot of the average views for each speaker in the dataset."
      ],
      "metadata": {
        "id": "5zsbJ95uburu"
      }
    },
    {
      "cell_type": "markdown",
      "source": [
        "#### What all categorical encoding techniques have you used & why did you use those techniques?"
      ],
      "metadata": {
        "id": "67NQN5KX2AMe"
      }
    },
    {
      "cell_type": "markdown",
      "source": [
        "i have employed LabelEncoder in this case  to convert the categorical values of the 'speaker_1' column into numerical values that can be used as input for machine learning algorithms that require numeric input. \n",
        "\n",
        "and  I have also employed One hot encoding  that creates a numerical representation of the categorical data that can be used in many machine learning models."
      ],
      "metadata": {
        "id": "UDaue5h32n_G"
      }
    },
    {
      "cell_type": "markdown",
      "source": [
        "### 4. Textual Data Preprocessing \n",
        "(It's mandatory for textual dataset i.e., NLP, Sentiment Analysis, Text Clustering etc.)"
      ],
      "metadata": {
        "id": "Iwf50b-R2tYG"
      }
    },
    {
      "cell_type": "markdown",
      "source": [
        "#### 1. Expand Contraction"
      ],
      "metadata": {
        "id": "GMQiZwjn3iu7"
      }
    },
    {
      "cell_type": "code",
      "source": [
        "df_numeric = df[['talk_id', 'views', 'comments', 'duration', 'number_of_lang']]\n",
        "df_categorical = df[[ 'title','speaker_1','all_speakers','occupations','topics']]\n"
      ],
      "metadata": {
        "id": "KO6YbOaube6l"
      },
      "execution_count": null,
      "outputs": []
    },
    {
      "cell_type": "code",
      "source": [
        "# Expand Contraction\n",
        "pd.set_option('display.max_colwidth', -1)\n",
        "data= df_categorical\n",
        "data.head()"
      ],
      "metadata": {
        "id": "PTouz10C3oNN"
      },
      "execution_count": null,
      "outputs": []
    },
    {
      "cell_type": "markdown",
      "source": [
        "#### 2. Lower Casing"
      ],
      "metadata": {
        "id": "WVIkgGqN3qsr"
      }
    },
    {
      "cell_type": "code",
      "source": [
        "# Lower Casing\n",
        "data['title'] = data['title'].str.lower()\n",
        "data['speaker_1'] = data['speaker_1'].str.lower()\n",
        "data['all_speakers'] = data['all_speakers'].str.lower()\n",
        "data['occupations'] = data['occupations'].str.lower()\n",
        "data['topics'] = data['topics'].str.lower()\n"
      ],
      "metadata": {
        "id": "88JnJ1jN3w7j"
      },
      "execution_count": null,
      "outputs": []
    },
    {
      "cell_type": "code",
      "source": [
        "new_data = data.assign(title = data['title'].str.lower(),\n",
        "speaker_1 = data['speaker_1'].str.lower(),\n",
        "all_speakers= data['all_speakers'].str.lower(),occupations = data['occupations'].str.lower(),\n",
        "topics= data['topics'].str.lower())\n",
        "\n",
        "# display the first few rows of the new DataFrame\n",
        "new_data"
      ],
      "metadata": {
        "id": "8BpHp6zOeDp0"
      },
      "execution_count": null,
      "outputs": []
    },
    {
      "cell_type": "markdown",
      "source": [
        "#### 3. Removing Punctuations"
      ],
      "metadata": {
        "id": "XkPnILGE3zoT"
      }
    },
    {
      "cell_type": "code",
      "source": [
        "# Remove Punctuations\n",
        "import string\n",
        "string.punctuation\n",
        "#defining the function to remove punctuation\n",
        "def remove_punctuation(text):\n",
        "    punctuationfree=\"\".join([i for i in text if i not in string.punctuation])\n",
        "    return punctuationfree\n",
        "#storing the puntuation free text\n",
        "new_data2= new_data.apply(lambda x:remove_punctuation(x))\n",
        "new_data2\n"
      ],
      "metadata": {
        "id": "vqbBqNaA33c0"
      },
      "execution_count": null,
      "outputs": []
    },
    {
      "cell_type": "markdown",
      "source": [
        "#### 4. Removing URLs & Removing words and digits contain digits."
      ],
      "metadata": {
        "id": "Hlsf0x5436Go"
      }
    },
    {
      "cell_type": "code",
      "source": [
        "# Remove URLs & Remove words and digits contain digits"
      ],
      "metadata": {
        "id": "2sxKgKxu4Ip3"
      },
      "execution_count": null,
      "outputs": []
    },
    {
      "cell_type": "code",
      "source": [
        "\n",
        "import re\n",
        "# remove URLs from the text in the 'text' column\n",
        "new_data['title'] = new_data['title'].apply(lambda x: re.sub(r'http\\S+', '', x))\n",
        "new_data['speaker_1'] = new_data['speaker_1'].apply(lambda x: re.sub(r'http\\S+', '', x))\n",
        "new_data['all_speakers'] = new_data['all_speakers'].apply(lambda x: re.sub(r'http\\S+', '', x))\n",
        "new_data['occupations'] = new_data['occupations'].apply(lambda x: re.sub(r'http\\S+', '', x))\n",
        "new_data['topics'] = new_data['topics'].apply(lambda x: re.sub(r'http\\S+', '', x))\n",
        "\n",
        "# remove words containing digits from the text in the 'text' column\n",
        "new_data['title'] = new_data['title'].apply(lambda x: re.sub(r'\\w*\\d\\w*', '', x))\n",
        "new_data['speaker_1'] = new_data['speaker_1'].apply(lambda x: re.sub(r'\\w*\\d\\w*', '', x))\n",
        "new_data['all_speakers'] = new_data['all_speakers'].apply(lambda x: re.sub(r'\\w*\\d\\w*', '', x))\n",
        "new_data['occupations'] = new_data['occupations'].apply(lambda x: re.sub(r'\\w*\\d\\w*', '', x))\n",
        "new_data['topics'] = new_data['topics'].apply(lambda x: re.sub(r'\\w*\\d\\w*', '', x))\n",
        "\n",
        "# display the first few rows of the updated DataFrame\n",
        "new_data\n"
      ],
      "metadata": {
        "id": "RkboUp2NhaM6"
      },
      "execution_count": null,
      "outputs": []
    },
    {
      "cell_type": "markdown",
      "source": [
        "#### 5. Removing Stopwords & Removing White spaces"
      ],
      "metadata": {
        "id": "mT9DMSJo4nBL"
      }
    },
    {
      "cell_type": "code",
      "source": [
        "# Remove Stopwords\n",
        "import nltk\n",
        "nltk.download('stopwords')\n",
        "#Stop words present in the library\n",
        "stopwords = nltk.corpus.stopwords.words('english')\n",
        "stopwords[0:10]\n",
        "[ \"youve\"]\n",
        "#defining the function to remove stopwords from tokenized text\n",
        "def remove_stopwords(text):\n",
        "    output= [i for i in text if i not in stopwords]\n",
        "    return output\n"
      ],
      "metadata": {
        "id": "T2LSJh154s8W"
      },
      "execution_count": null,
      "outputs": []
    },
    {
      "cell_type": "code",
      "source": [
        "# Remove White spaces"
      ],
      "metadata": {
        "id": "EgLJGffy4vm0"
      },
      "execution_count": null,
      "outputs": []
    },
    {
      "cell_type": "code",
      "source": [
        "new_data['title'] = new_data['title'].str.strip()\n",
        "new_data['speaker_1'] = new_data['speaker_1'].str.strip()\n",
        "new_data['all_speakers'] = new_data['all_speakers'].str.strip()\n",
        "new_data['occupations'] = new_data['occupations'].str.strip()\n",
        "new_data['topics'] = new_data['topics'].str.strip()"
      ],
      "metadata": {
        "id": "KFphYN1MpeJq"
      },
      "execution_count": null,
      "outputs": []
    },
    {
      "cell_type": "code",
      "source": [
        "new_data['title'] = new_data['title'].apply(lambda x: \" \".join(x.split()))\n",
        "new_data['speaker_1'] = new_data['speaker_1'].apply(lambda x: \" \".join(x.split()))\n",
        "new_data['all_speakers'] = new_data['all_speakers'].apply(lambda x: \" \".join(x.split()))\n",
        "new_data['occupations'] = new_data['occupations'].apply(lambda x: \" \".join(x.split()))\n",
        "new_data['topics'] = new_data['topics'].apply(lambda x: \" \".join(x.split()))"
      ],
      "metadata": {
        "id": "HvRR12aWqLn6"
      },
      "execution_count": null,
      "outputs": []
    },
    {
      "cell_type": "code",
      "source": [
        "new_data"
      ],
      "metadata": {
        "id": "MHibu41Yp8wY"
      },
      "execution_count": null,
      "outputs": []
    },
    {
      "cell_type": "markdown",
      "source": [
        "#### 6. Rephrase Text"
      ],
      "metadata": {
        "id": "c49ITxTc407N"
      }
    },
    {
      "cell_type": "code",
      "source": [
        "# Rephrase Text"
      ],
      "metadata": {
        "id": "foqY80Qu48N2"
      },
      "execution_count": null,
      "outputs": []
    },
    {
      "cell_type": "code",
      "source": [
        "nltk.download('wordnet')\n"
      ],
      "metadata": {
        "id": "tXLRsI-LsHNp"
      },
      "execution_count": null,
      "outputs": []
    },
    {
      "cell_type": "markdown",
      "source": [
        "#### 7. Tokenization"
      ],
      "metadata": {
        "id": "OeJFEK0N496M"
      }
    },
    {
      "cell_type": "code",
      "source": [
        "# Tokenization\n",
        "import re\n",
        "def tokenization(text):\n",
        "    tokens = re.split('W+',text)\n",
        "    return tokens\n",
        "#applying function to the column\n",
        "new_data['title'] = new_data['title'].apply(lambda x: tokenization(x))\n",
        "new_data['speaker_1'] = new_data['speaker_1'].apply(lambda x: tokenization(x))\n",
        "new_data['all_speakers'] = new_data['all_speakers'].apply(lambda x: tokenization(x))\n",
        "new_data['occupations'] = new_data['occupations'].apply(lambda x: tokenization(x))\n",
        "new_data['topics'] = new_data['topics'].apply(lambda x: tokenization(x))\n",
        "\n"
      ],
      "metadata": {
        "id": "ijx1rUOS5CUU"
      },
      "execution_count": null,
      "outputs": []
    },
    {
      "cell_type": "markdown",
      "source": [
        "#### 8. Text Normalization"
      ],
      "metadata": {
        "id": "9ExmJH0g5HBk"
      }
    },
    {
      "cell_type": "code",
      "source": [
        "#importing the Stemming function from nltk library\n",
        "from nltk.stem.porter import PorterStemmer\n",
        "\n",
        "#defining the object for stemming\n",
        "porter_stemmer = PorterStemmer()\n",
        "\n",
        "#defining a function for stemming\n",
        "def stemming(text):\n",
        "    stem_text = [porter_stemmer.stem(word) for word in text]\n",
        "    return stem_text\n",
        "\n",
        "new_data['title'] = new_data['title'].apply(lambda x: stemming(x))\n",
        "new_data['speaker_1'] = new_data['speaker_1'].apply(lambda x: stemming(x))\n",
        "new_data['all_speakers'] = new_data['all_speakers'].apply(lambda x: stemming(x))\n",
        "new_data['occupations'] = new_data['occupations'].apply(lambda x: stemming(x))\n",
        "new_data['topics'] = new_data['topics'].apply(lambda x: stemming(x))\n",
        "\n"
      ],
      "metadata": {
        "id": "piPdh2vftoNH"
      },
      "execution_count": null,
      "outputs": []
    },
    {
      "cell_type": "markdown",
      "source": [
        "##### Which text normalization technique have you used and why?"
      ],
      "metadata": {
        "id": "cJNqERVU536h"
      }
    },
    {
      "cell_type": "markdown",
      "source": [
        "Porter stemming algorithm from the nltk library to stem each word in the input text."
      ],
      "metadata": {
        "id": "Z9jKVxE06BC1"
      }
    },
    {
      "cell_type": "markdown",
      "source": [
        "#### 9. Part of speech tagging"
      ],
      "metadata": {
        "id": "k5UmGsbsOxih"
      }
    },
    {
      "cell_type": "code",
      "source": [
        "# POS Taging\n"
      ],
      "metadata": {
        "id": "btT3ZJBAO6Ik"
      },
      "execution_count": null,
      "outputs": []
    },
    {
      "cell_type": "code",
      "source": [
        "import nltk\n",
        "import pandas as pd\n",
        "\n",
        "# download necessary NLTK resources\n",
        "nltk.download('punkt')\n",
        "nltk.download('averaged_perceptron_tagger')\n",
        "\n",
        "# create a sample DataFrame with text data in a column\n",
        "df = pd.DataFrame({'text': ['title','speaker_1','all_speakers','occupations','topics']})\n",
        "\n",
        "# define a function to perform POS tagging on a given text string\n",
        "def pos_tag(text):\n",
        "    tokens = nltk.word_tokenize(text)\n",
        "    return nltk.pos_tag(tokens)\n",
        "\n",
        "# apply the pos_tag function to the 'text' column of the DataFrame\n",
        "df['pos_tags'] = df['text'].apply(pos_tag)\n",
        "\n",
        "# print the resulting DataFrame\n",
        "print(df)\n"
      ],
      "metadata": {
        "id": "OVC4Qo2PFuTY"
      },
      "execution_count": null,
      "outputs": []
    },
    {
      "cell_type": "markdown",
      "source": [
        "#### 10. Text Vectorization"
      ],
      "metadata": {
        "id": "T0VqWOYE6DLQ"
      }
    },
    {
      "cell_type": "code",
      "source": [
        "# Vectorizing Text"
      ],
      "metadata": {
        "id": "yBRtdhth6JDE"
      },
      "execution_count": null,
      "outputs": []
    },
    {
      "cell_type": "code",
      "source": [
        "import pandas as pd\n",
        "from sklearn.feature_extraction.text import CountVectorizer\n",
        "\n",
        "# create a DataFrame with text data in a column\n",
        "df = pd.DataFrame({'text': ['title','speaker_1','all_speakers','occupations','topics']})\n",
        "\n",
        "# create the vectorizer object\n",
        "vectorizer = CountVectorizer()\n",
        "\n",
        "# fit the vectorizer on the text column and transform it into vectors\n",
        "vectors = vectorizer.fit_transform(df['text'])\n",
        "\n",
        "# create a new DataFrame with the vectorized representation of the text data\n",
        "vectorized_df = pd.DataFrame(vectors.toarray(), columns=vectorizer.get_feature_names())\n",
        "\n",
        "# print the vectorized DataFrame\n",
        "print(vectorized_df)\n"
      ],
      "metadata": {
        "id": "Boef8CGz-wjN"
      },
      "execution_count": null,
      "outputs": []
    },
    {
      "cell_type": "markdown",
      "source": [
        "##### Which text vectorization technique have you used and why?"
      ],
      "metadata": {
        "id": "qBMux9mC6MCf"
      }
    },
    {
      "cell_type": "markdown",
      "source": [
        "CountVectorizer technique  to convert text data into a numerical representation, specifically a sparse matrix of token counts."
      ],
      "metadata": {
        "id": "su2EnbCh6UKQ"
      }
    },
    {
      "cell_type": "markdown",
      "source": [
        "### 4. Feature Manipulation & Selection"
      ],
      "metadata": {
        "id": "-oLEiFgy-5Pf"
      }
    },
    {
      "cell_type": "markdown",
      "source": [
        "#### 1. Feature Manipulation"
      ],
      "metadata": {
        "id": "C74aWNz2AliB"
      }
    },
    {
      "cell_type": "code",
      "source": [
        "# Manipulate Features to minimize feature correlation and create new features\n"
      ],
      "metadata": {
        "id": "h1qC4yhBApWC"
      },
      "execution_count": null,
      "outputs": []
    },
    {
      "cell_type": "code",
      "source": [
        "dataset['recorded_date'] = pd.to_datetime(dataset['recorded_date'])\n",
        "dataset['published_date'] = pd.to_datetime(dataset['published_date'])\n",
        "\n",
        "# Calculate the duration of days taken to publish the video\n",
        "dataset['published_duration_days'] = (dataset['published_date'] - dataset['recorded_date']).dt.days\n",
        "\n",
        "# Print the first five rows of the updated dataset\n",
        "print(dataset.head())"
      ],
      "metadata": {
        "id": "Fcw36MiXJVkn"
      },
      "execution_count": null,
      "outputs": []
    },
    {
      "cell_type": "code",
      "source": [
        "dataset['published_duration_days']"
      ],
      "metadata": {
        "id": "u7o8QQ3aVHOC"
      },
      "execution_count": null,
      "outputs": []
    },
    {
      "cell_type": "markdown",
      "source": [
        "#### 2. Feature Selection"
      ],
      "metadata": {
        "id": "2DejudWSA-a0"
      }
    },
    {
      "cell_type": "code",
      "source": [
        "# Select your features wisely to avoid overfitting\n"
      ],
      "metadata": {
        "id": "YLhe8UmaBCEE"
      },
      "execution_count": null,
      "outputs": []
    },
    {
      "cell_type": "code",
      "source": [
        "dataset.columns"
      ],
      "metadata": {
        "id": "sd2U1YGLijyN"
      },
      "execution_count": null,
      "outputs": []
    },
    {
      "cell_type": "code",
      "source": [
        "unwanted_features=['talk_id', 'title', 'speaker_1', 'all_speakers', 'occupations',\n",
        "       'about_speakers', 'views', 'recorded_date', 'published_date', 'event',\n",
        "       'native_lang', 'available_lang', 'topics',\n",
        "       'related_talks', 'url', 'description', 'transcript',]\n",
        "     "
      ],
      "metadata": {
        "id": "LOdc3PupmrC3"
      },
      "execution_count": null,
      "outputs": []
    },
    {
      "cell_type": "code",
      "source": [
        "df4=dataset.copy()"
      ],
      "metadata": {
        "id": "lRC2tKvskQdZ"
      },
      "execution_count": null,
      "outputs": []
    },
    {
      "cell_type": "code",
      "source": [
        "print(df4.head())"
      ],
      "metadata": {
        "id": "h-6UYPGiklXA"
      },
      "execution_count": null,
      "outputs": []
    },
    {
      "cell_type": "code",
      "source": [
        "#dropping unimportant columns from the datasets.\n",
        "df4.drop(columns=unwanted_features,inplace=True)\n",
        "     "
      ],
      "metadata": {
        "id": "-Uwv7yvgkv4w"
      },
      "execution_count": null,
      "outputs": []
    },
    {
      "cell_type": "code",
      "source": [
        "df4.columns"
      ],
      "metadata": {
        "id": "m0qP12aEkyQD"
      },
      "execution_count": null,
      "outputs": []
    },
    {
      "cell_type": "code",
      "source": [
        "x=df4"
      ],
      "metadata": {
        "id": "fLfL_xr6lZ0e"
      },
      "execution_count": null,
      "outputs": []
    },
    {
      "cell_type": "code",
      "source": [
        "#one hot encoding on categorical features\n",
        "X=pd.get_dummies(x)\n",
        "X.shape"
      ],
      "metadata": {
        "id": "SRKVUz_bldTN"
      },
      "execution_count": null,
      "outputs": []
    },
    {
      "cell_type": "code",
      "source": [
        "X.head(2)\n"
      ],
      "metadata": {
        "id": "QS88LpoZlzrl"
      },
      "execution_count": null,
      "outputs": []
    },
    {
      "cell_type": "code",
      "source": [
        "\n",
        "#checking for null values\n",
        "X[['duration','comments']].isna().sum()"
      ],
      "metadata": {
        "id": "36OCtdB6nCoJ"
      },
      "execution_count": null,
      "outputs": []
    },
    {
      "cell_type": "code",
      "source": [
        "X.head()"
      ],
      "metadata": {
        "id": "pF25F0psnM68"
      },
      "execution_count": null,
      "outputs": []
    },
    {
      "cell_type": "code",
      "source": [
        "import xgboost as xgb\n",
        "xgb_model= xgb.XGBRegressor(objective=\"reg:squarederror\")"
      ],
      "metadata": {
        "id": "gjxEpyaloWR4"
      },
      "execution_count": null,
      "outputs": []
    },
    {
      "cell_type": "code",
      "source": [
        "dataset.columns"
      ],
      "metadata": {
        "id": "zpQocD-SoYbf"
      },
      "execution_count": null,
      "outputs": []
    },
    {
      "cell_type": "code",
      "source": [
        "X= dataset[['duration',\n",
        "       'speaker_1_avg_views', \n",
        "       'number_of_lang']]"
      ],
      "metadata": {
        "id": "phE4Ki_zoeGn"
      },
      "execution_count": null,
      "outputs": []
    },
    {
      "cell_type": "code",
      "source": [
        "from sklearn.preprocessing import StandardScaler\n",
        "Scaler= StandardScaler()"
      ],
      "metadata": {
        "id": "wD8bk_Jzo_KU"
      },
      "execution_count": null,
      "outputs": []
    },
    {
      "cell_type": "markdown",
      "source": [
        "##### What all feature selection methods have you used  and why?"
      ],
      "metadata": {
        "id": "pEMng2IbBLp7"
      }
    },
    {
      "cell_type": "markdown",
      "source": [
        "Answer Here."
      ],
      "metadata": {
        "id": "rb2Lh6Z8BgGs"
      }
    },
    {
      "cell_type": "markdown",
      "source": [
        "##### Which all features you found important and why?"
      ],
      "metadata": {
        "id": "rAdphbQ9Bhjc"
      }
    },
    {
      "cell_type": "markdown",
      "source": [
        "Answer Here."
      ],
      "metadata": {
        "id": "fGgaEstsBnaf"
      }
    },
    {
      "cell_type": "markdown",
      "source": [
        "### 5. Data Transformation"
      ],
      "metadata": {
        "id": "TNVZ9zx19K6k"
      }
    },
    {
      "cell_type": "markdown",
      "source": [
        "#### Do you think that your data needs to be transformed? If yes, which transformation have you used. Explain Why?"
      ],
      "metadata": {
        "id": "nqoHp30x9hH9"
      }
    },
    {
      "cell_type": "code",
      "source": [
        "# Transform Your data"
      ],
      "metadata": {
        "id": "I6quWQ1T9rtH"
      },
      "execution_count": null,
      "outputs": []
    },
    {
      "cell_type": "markdown",
      "source": [
        "### 6. Data Scaling"
      ],
      "metadata": {
        "id": "rMDnDkt2B6du"
      }
    },
    {
      "cell_type": "code",
      "source": [
        "# Scaling your data"
      ],
      "metadata": {
        "id": "dL9LWpySC6x_"
      },
      "execution_count": null,
      "outputs": []
    },
    {
      "cell_type": "markdown",
      "source": [
        "##### Which method have you used to scale you data and why?"
      ],
      "metadata": {
        "id": "yiiVWRdJDDil"
      }
    },
    {
      "cell_type": "markdown",
      "source": [
        "### 7. Dimesionality Reduction"
      ],
      "metadata": {
        "id": "1UUpS68QDMuG"
      }
    },
    {
      "cell_type": "markdown",
      "source": [
        "##### Do you think that dimensionality reduction is needed? Explain Why?"
      ],
      "metadata": {
        "id": "kexQrXU-DjzY"
      }
    },
    {
      "cell_type": "markdown",
      "source": [
        "Answer Here."
      ],
      "metadata": {
        "id": "GGRlBsSGDtTQ"
      }
    },
    {
      "cell_type": "code",
      "source": [
        "# DImensionality Reduction (If needed)"
      ],
      "metadata": {
        "id": "kQfvxBBHDvCa"
      },
      "execution_count": null,
      "outputs": []
    },
    {
      "cell_type": "markdown",
      "source": [
        "##### Which dimensionality reduction technique have you used and why? (If dimensionality reduction done on dataset.)"
      ],
      "metadata": {
        "id": "T5CmagL3EC8N"
      }
    },
    {
      "cell_type": "markdown",
      "source": [
        "Answer Here."
      ],
      "metadata": {
        "id": "ZKr75IDuEM7t"
      }
    },
    {
      "cell_type": "markdown",
      "source": [
        "### 8. Data Splitting"
      ],
      "metadata": {
        "id": "BhH2vgX9EjGr"
      }
    },
    {
      "cell_type": "code",
      "source": [
        "# Split your data to train and test. Choose Splitting ratio wisely."
      ],
      "metadata": {
        "id": "0CTyd2UwEyNM"
      },
      "execution_count": null,
      "outputs": []
    },
    {
      "cell_type": "markdown",
      "source": [
        "##### What data splitting ratio have you used and why? "
      ],
      "metadata": {
        "id": "qjKvONjwE8ra"
      }
    },
    {
      "cell_type": "markdown",
      "source": [
        "Answer Here."
      ],
      "metadata": {
        "id": "Y2lJ8cobFDb_"
      }
    },
    {
      "cell_type": "markdown",
      "source": [
        "### 9. Handling Imbalanced Dataset"
      ],
      "metadata": {
        "id": "P1XJ9OREExlT"
      }
    },
    {
      "cell_type": "markdown",
      "source": [
        "##### Do you think the dataset is imbalanced? Explain Why."
      ],
      "metadata": {
        "id": "VFOzZv6IFROw"
      }
    },
    {
      "cell_type": "markdown",
      "source": [
        "Answer Here."
      ],
      "metadata": {
        "id": "GeKDIv7pFgcC"
      }
    },
    {
      "cell_type": "code",
      "source": [
        "# Handling Imbalanced Dataset (If needed)"
      ],
      "metadata": {
        "id": "nQsRhhZLFiDs"
      },
      "execution_count": null,
      "outputs": []
    },
    {
      "cell_type": "markdown",
      "source": [
        "##### What technique did you use to handle the imbalance dataset and why? (If needed to be balanced)"
      ],
      "metadata": {
        "id": "TIqpNgepFxVj"
      }
    },
    {
      "cell_type": "markdown",
      "source": [
        "Answer Here."
      ],
      "metadata": {
        "id": "qbet1HwdGDTz"
      }
    },
    {
      "cell_type": "markdown",
      "source": [
        "## ***7. ML Model Implementation***"
      ],
      "metadata": {
        "id": "VfCC591jGiD4"
      }
    },
    {
      "cell_type": "markdown",
      "source": [
        "### ML Model - 1"
      ],
      "metadata": {
        "id": "OB4l2ZhMeS1U"
      }
    },
    {
      "cell_type": "code",
      "source": [
        "# ML Model - 1 Implementation\n",
        "\n",
        "# Fit the Algorithm\n",
        "\n",
        "# Predict on the model"
      ],
      "metadata": {
        "id": "7ebyywQieS1U"
      },
      "execution_count": null,
      "outputs": []
    },
    {
      "cell_type": "markdown",
      "source": [
        "#### 1. Explain the ML Model used and it's performance using Evaluation metric Score Chart."
      ],
      "metadata": {
        "id": "ArJBuiUVfxKd"
      }
    },
    {
      "cell_type": "code",
      "source": [
        "# Visualizing evaluation Metric Score chart"
      ],
      "metadata": {
        "id": "rqD5ZohzfxKe"
      },
      "execution_count": null,
      "outputs": []
    },
    {
      "cell_type": "markdown",
      "source": [
        "#### 2. Cross- Validation & Hyperparameter Tuning"
      ],
      "metadata": {
        "id": "4qY1EAkEfxKe"
      }
    },
    {
      "cell_type": "code",
      "source": [
        "# ML Model - 1 Implementation with hyperparameter optimization techniques (i.e., GridSearch CV, RandomSearch CV, Bayesian Optimization etc.)\n",
        "\n",
        "# Fit the Algorithm\n",
        "\n",
        "# Predict on the model"
      ],
      "metadata": {
        "id": "Dy61ujd6fxKe"
      },
      "execution_count": null,
      "outputs": []
    },
    {
      "cell_type": "markdown",
      "source": [
        "##### Which hyperparameter optimization technique have you used and why?"
      ],
      "metadata": {
        "id": "PiV4Ypx8fxKe"
      }
    },
    {
      "cell_type": "markdown",
      "source": [
        "Answer Here."
      ],
      "metadata": {
        "id": "negyGRa7fxKf"
      }
    },
    {
      "cell_type": "markdown",
      "source": [
        "##### Have you seen any improvement? Note down the improvement with updates Evaluation metric Score Chart."
      ],
      "metadata": {
        "id": "TfvqoZmBfxKf"
      }
    },
    {
      "cell_type": "markdown",
      "source": [
        "Answer Here."
      ],
      "metadata": {
        "id": "OaLui8CcfxKf"
      }
    },
    {
      "cell_type": "markdown",
      "source": [
        "### ML Model - 2"
      ],
      "metadata": {
        "id": "dJ2tPlVmpsJ0"
      }
    },
    {
      "cell_type": "markdown",
      "source": [
        "#### 1. Explain the ML Model used and it's performance using Evaluation metric Score Chart."
      ],
      "metadata": {
        "id": "JWYfwnehpsJ1"
      }
    },
    {
      "cell_type": "code",
      "source": [
        "# Visualizing evaluation Metric Score chart"
      ],
      "metadata": {
        "id": "yEl-hgQWpsJ1"
      },
      "execution_count": null,
      "outputs": []
    },
    {
      "cell_type": "markdown",
      "source": [
        "#### 2. Cross- Validation & Hyperparameter Tuning"
      ],
      "metadata": {
        "id": "-jK_YjpMpsJ2"
      }
    },
    {
      "cell_type": "code",
      "source": [
        "# ML Model - 1 Implementation with hyperparameter optimization techniques (i.e., GridSearch CV, RandomSearch CV, Bayesian Optimization etc.)\n",
        "\n",
        "# Fit the Algorithm\n",
        "\n",
        "# Predict on the model"
      ],
      "metadata": {
        "id": "Dn0EOfS6psJ2"
      },
      "execution_count": null,
      "outputs": []
    },
    {
      "cell_type": "markdown",
      "source": [
        "##### Which hyperparameter optimization technique have you used and why?"
      ],
      "metadata": {
        "id": "HAih1iBOpsJ2"
      }
    },
    {
      "cell_type": "markdown",
      "source": [
        "Answer Here."
      ],
      "metadata": {
        "id": "9kBgjYcdpsJ2"
      }
    },
    {
      "cell_type": "markdown",
      "source": [
        "##### Have you seen any improvement? Note down the improvement with updates Evaluation metric Score Chart."
      ],
      "metadata": {
        "id": "zVGeBEFhpsJ2"
      }
    },
    {
      "cell_type": "markdown",
      "source": [
        "Answer Here."
      ],
      "metadata": {
        "id": "74yRdG6UpsJ3"
      }
    },
    {
      "cell_type": "markdown",
      "source": [
        "#### 3. Explain each evaluation metric's indication towards business and the business impact pf the ML model used."
      ],
      "metadata": {
        "id": "bmKjuQ-FpsJ3"
      }
    },
    {
      "cell_type": "markdown",
      "source": [
        "Answer Here."
      ],
      "metadata": {
        "id": "BDKtOrBQpsJ3"
      }
    },
    {
      "cell_type": "markdown",
      "source": [
        "### ML Model - 3"
      ],
      "metadata": {
        "id": "Fze-IPXLpx6K"
      }
    },
    {
      "cell_type": "code",
      "source": [
        "# ML Model - 3 Implementation\n",
        "\n",
        "# Fit the Algorithm\n",
        "\n",
        "# Predict on the model"
      ],
      "metadata": {
        "id": "FFrSXAtrpx6M"
      },
      "execution_count": null,
      "outputs": []
    },
    {
      "cell_type": "markdown",
      "source": [
        "#### 1. Explain the ML Model used and it's performance using Evaluation metric Score Chart."
      ],
      "metadata": {
        "id": "7AN1z2sKpx6M"
      }
    },
    {
      "cell_type": "code",
      "source": [
        "# Visualizing evaluation Metric Score chart"
      ],
      "metadata": {
        "id": "xIY4lxxGpx6M"
      },
      "execution_count": null,
      "outputs": []
    },
    {
      "cell_type": "markdown",
      "source": [
        "#### 2. Cross- Validation & Hyperparameter Tuning"
      ],
      "metadata": {
        "id": "9PIHJqyupx6M"
      }
    },
    {
      "cell_type": "code",
      "source": [
        "# ML Model - 3 Implementation with hyperparameter optimization techniques (i.e., GridSearch CV, RandomSearch CV, Bayesian Optimization etc.)\n",
        "\n",
        "# Fit the Algorithm\n",
        "\n",
        "# Predict on the model"
      ],
      "metadata": {
        "id": "eSVXuaSKpx6M"
      },
      "execution_count": null,
      "outputs": []
    },
    {
      "cell_type": "markdown",
      "source": [
        "##### Which hyperparameter optimization technique have you used and why?"
      ],
      "metadata": {
        "id": "_-qAgymDpx6N"
      }
    },
    {
      "cell_type": "markdown",
      "source": [
        "Answer Here."
      ],
      "metadata": {
        "id": "lQMffxkwpx6N"
      }
    },
    {
      "cell_type": "markdown",
      "source": [
        "##### Have you seen any improvement? Note down the improvement with updates Evaluation metric Score Chart."
      ],
      "metadata": {
        "id": "Z-hykwinpx6N"
      }
    },
    {
      "cell_type": "markdown",
      "source": [
        "Answer Here."
      ],
      "metadata": {
        "id": "MzVzZC6opx6N"
      }
    },
    {
      "cell_type": "markdown",
      "source": [
        "### 1. Which Evaluation metrics did you consider for a positive business impact and why?"
      ],
      "metadata": {
        "id": "h_CCil-SKHpo"
      }
    },
    {
      "cell_type": "markdown",
      "source": [
        "Answer Here."
      ],
      "metadata": {
        "id": "jHVz9hHDKFms"
      }
    },
    {
      "cell_type": "markdown",
      "source": [
        "### 2. Which ML model did you choose from the above created models as your final prediction model and why?"
      ],
      "metadata": {
        "id": "cBFFvTBNJzUa"
      }
    },
    {
      "cell_type": "markdown",
      "source": [
        "Answer Here."
      ],
      "metadata": {
        "id": "6ksF5Q1LKTVm"
      }
    },
    {
      "cell_type": "markdown",
      "source": [
        "### 3. Explain the model which you have used and the feature importance using any model explainability tool?"
      ],
      "metadata": {
        "id": "HvGl1hHyA_VK"
      }
    },
    {
      "cell_type": "markdown",
      "source": [
        "Answer Here."
      ],
      "metadata": {
        "id": "YnvVTiIxBL-C"
      }
    },
    {
      "cell_type": "markdown",
      "source": [
        "## ***8.*** ***Future Work (Optional)***"
      ],
      "metadata": {
        "id": "EyNgTHvd2WFk"
      }
    },
    {
      "cell_type": "markdown",
      "source": [
        "### 1. Save the best performing ml model in a pickle file or joblib file format for deployment process.\n"
      ],
      "metadata": {
        "id": "KH5McJBi2d8v"
      }
    },
    {
      "cell_type": "code",
      "source": [
        "# Save the File"
      ],
      "metadata": {
        "id": "bQIANRl32f4J"
      },
      "execution_count": null,
      "outputs": []
    },
    {
      "cell_type": "markdown",
      "source": [
        "### 2. Again Load the saved model file and try to predict unseen data for a sanity check.\n"
      ],
      "metadata": {
        "id": "iW_Lq9qf2h6X"
      }
    },
    {
      "cell_type": "code",
      "source": [
        "# Load the File and predict unseen data."
      ],
      "metadata": {
        "id": "oEXk9ydD2nVC"
      },
      "execution_count": null,
      "outputs": []
    },
    {
      "cell_type": "markdown",
      "source": [
        "### ***Congrats! Your model is successfully created and ready for deployment on a live server for a real user interaction !!!***"
      ],
      "metadata": {
        "id": "-Kee-DAl2viO"
      }
    },
    {
      "cell_type": "markdown",
      "source": [
        "# **Conclusion**"
      ],
      "metadata": {
        "id": "gCX9965dhzqZ"
      }
    },
    {
      "cell_type": "markdown",
      "source": [
        "Write the conclusion here."
      ],
      "metadata": {
        "id": "Fjb1IsQkh3yE"
      }
    },
    {
      "cell_type": "markdown",
      "source": [
        "### ***Hurrah! You have successfully completed your Machine Learning Capstone Project !!!***"
      ],
      "metadata": {
        "id": "gIfDvo9L0UH2"
      }
    }
  ]
}